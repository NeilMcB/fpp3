{
 "cells": [
  {
   "cell_type": "code",
   "execution_count": null,
   "id": "sunrise-dublin",
   "metadata": {},
   "outputs": [],
   "source": [
    "library(fpp3)"
   ]
  },
  {
   "cell_type": "code",
   "execution_count": null,
   "id": "monetary-milwaukee",
   "metadata": {},
   "outputs": [],
   "source": [
    "fb_stock <- gafa_stock %>%\n",
    "    filter(Symbol == \"FB\") %>%\n",
    "    mutate(day = row_number()) %>%\n",
    "    update_tsibble(index = day, regular = TRUE)"
   ]
  },
  {
   "cell_type": "code",
   "execution_count": null,
   "id": "animal-pharmaceutical",
   "metadata": {},
   "outputs": [],
   "source": [
    "fb_stock %>%\n",
    "    autoplot(Close)"
   ]
  },
  {
   "cell_type": "code",
   "execution_count": null,
   "id": "going-farmer",
   "metadata": {},
   "outputs": [],
   "source": [
    "fit <- fb_stock %>%\n",
    "    model(\n",
    "        'mean' = MEAN(Close),\n",
    "        'drift' = RW(Close ~ drift()),\n",
    "        'naive' = NAIVE(Close)\n",
    "    )\n",
    "\n",
    "fit %>%\n",
    "    forecast(h = 20) %>%\n",
    "    autoplot(fb_stock)"
   ]
  },
  {
   "cell_type": "code",
   "execution_count": null,
   "id": "running-pontiac",
   "metadata": {},
   "outputs": [],
   "source": []
  }
 ],
 "metadata": {
  "kernelspec": {
   "display_name": "R",
   "language": "R",
   "name": "ir"
  },
  "language_info": {
   "codemirror_mode": "r",
   "file_extension": ".r",
   "mimetype": "text/x-r-source",
   "name": "R",
   "pygments_lexer": "r",
   "version": "3.6.1"
  }
 },
 "nbformat": 4,
 "nbformat_minor": 5
}
