{
 "cells": [
  {
   "cell_type": "code",
   "execution_count": null,
   "id": "elementary-greeting",
   "metadata": {},
   "outputs": [],
   "source": [
    "library(fpp3)"
   ]
  },
  {
   "cell_type": "code",
   "execution_count": null,
   "id": "challenging-doctrine",
   "metadata": {},
   "outputs": [],
   "source": [
    "gdppc <- global_economy %>%\n",
    "    mutate(GDP_per_capita = GDP / Population)"
   ]
  },
  {
   "cell_type": "code",
   "execution_count": null,
   "id": "italic-desert",
   "metadata": {},
   "outputs": [],
   "source": [
    "gdppc %>%\n",
    "    filter(Country == \"Sweden\") %>%\n",
    "    autoplot(GDP_per_capita) %>%\n",
    "    labs(y = \"$US\", title = \"GDP per capita for Sweden\")"
   ]
  },
  {
   "cell_type": "code",
   "execution_count": null,
   "id": "sixth-mobility",
   "metadata": {},
   "outputs": [],
   "source": [
    "fit <- gdppc %>%\n",
    "    model(trend_model = TSLM(GDP_per_capita ~ trend()))"
   ]
  },
  {
   "cell_type": "code",
   "execution_count": null,
   "id": "periodic-merchandise",
   "metadata": {},
   "outputs": [],
   "source": [
    "fit %>%\n",
    "    forecast(h = \"3 years\") %>%\n",
    "    filter(Country == \"Sweden\") %>%\n",
    "    autoplot(gdppc) + \n",
    "    labs(y = \"$US\", title = \"GDP per capita for Sweden\")"
   ]
  },
  {
   "cell_type": "code",
   "execution_count": null,
   "id": "exotic-paper",
   "metadata": {},
   "outputs": [],
   "source": [
    "bricks <- aus_production %>%\n",
    "    filter_index(\"1970 Q1\" ~ \"2004 Q4\")"
   ]
  },
  {
   "cell_type": "code",
   "execution_count": null,
   "id": "alive-trash",
   "metadata": {},
   "outputs": [],
   "source": [
    "bricks %>% model(NAIVE(Bricks)) %>%\n",
    "    forecast(h = \"3 years\") %>%\n",
    "    autoplot(bricks) + \n",
    "    labs(y = \"Bricks\", title = \"I love bricks\")"
   ]
  },
  {
   "cell_type": "code",
   "execution_count": null,
   "id": "deluxe-hopkins",
   "metadata": {},
   "outputs": [],
   "source": [
    "# Reindex with trading days\n",
    "google_stock <- gafa_stock %>%\n",
    "  filter(Symbol == \"GOOG\", year(Date) >= 2015) %>%\n",
    "  mutate(day = row_number()) %>%\n",
    "  update_tsibble(index = day, regular = TRUE)\n",
    "# Filter the year of interest\n",
    "google_2015 <- google_stock %>% filter(year(Date) == 2015)\n",
    "\n",
    "autoplot(google_2015, Close) +\n",
    "    labs(y = \"$US\", title = \"Google daily closing price in 2015\")"
   ]
  },
  {
   "cell_type": "code",
   "execution_count": null,
   "id": "vietnamese-lemon",
   "metadata": {},
   "outputs": [],
   "source": [
    "google_2015 %>%\n",
    "    model(NAIVE(Close)) %>%\n",
    "    gg_tsresiduals()"
   ]
  },
  {
   "cell_type": "code",
   "execution_count": null,
   "id": "confused-metallic",
   "metadata": {},
   "outputs": [],
   "source": [
    "aug <- google_2015 %>%\n",
    "    model(NAIVE(Close)) %>%\n",
    "    augment()\n",
    "\n",
    "aug %>% features(.innov, ljung_box, lag = 10, dof = 0)"
   ]
  },
  {
   "cell_type": "code",
   "execution_count": null,
   "id": "sensitive-occasions",
   "metadata": {},
   "outputs": [],
   "source": [
    "google_2015 %>%\n",
    "    model(NAIVE(Close)) %>%\n",
    "    forecast(h = 10) %>%\n",
    "    autoplot(google_2015)"
   ]
  },
  {
   "cell_type": "code",
   "execution_count": null,
   "id": "suspected-cement",
   "metadata": {},
   "outputs": [],
   "source": [
    "fit <- google_2015 %>%\n",
    "    model(NAIVE(Close))\n",
    "\n",
    "sim <- fit %>% generate(h = 30, times = 5, bootstrap = TRUE)\n",
    "\n",
    "google_2015 %>%\n",
    "    ggplot(aes(day)) +\n",
    "    geom_line(aes(y = Close)) +\n",
    "    geom_line(aes(y = .sim, color = as.factor(.rep)), data = sim) +\n",
    "    guides(col = FALSE)"
   ]
  },
  {
   "cell_type": "code",
   "execution_count": null,
   "id": "bored-mistress",
   "metadata": {},
   "outputs": [],
   "source": [
    "google_2015 %>%\n",
    "    model(NAIVE(Close)) %>%\n",
    "    forecast(h = 30, bootstrap = TRUE) %>%\n",
    "    autoplot(google_2015)"
   ]
  },
  {
   "cell_type": "code",
   "execution_count": null,
   "id": "changing-valley",
   "metadata": {},
   "outputs": [],
   "source": [
    "us_retail_employment <- us_employment %>%\n",
    "    filter(year(Month) >= 1990, Title == \"Retail Trade\")\n",
    "\n",
    "dcmp <- us_retail_employment %>%\n",
    "    model(stlf = decomposition_model(\n",
    "        STL(Employed ~ trend(window = 7), robust = TRUE),\n",
    "        NAIVE(season_adjust)\n",
    "    ))\n",
    "      \n",
    "dcmp %>%\n",
    "    forecast() %>%\n",
    "    autoplot(us_retail_employment)"
   ]
  },
  {
   "cell_type": "code",
   "execution_count": null,
   "id": "overall-vintage",
   "metadata": {},
   "outputs": [],
   "source": [
    "dcmp %>% gg_tsresiduals()"
   ]
  },
  {
   "cell_type": "code",
   "execution_count": null,
   "id": "dried-progress",
   "metadata": {},
   "outputs": [],
   "source": []
  }
 ],
 "metadata": {
  "kernelspec": {
   "display_name": "R",
   "language": "R",
   "name": "ir"
  },
  "language_info": {
   "codemirror_mode": "r",
   "file_extension": ".r",
   "mimetype": "text/x-r-source",
   "name": "R",
   "pygments_lexer": "r",
   "version": "3.6.1"
  }
 },
 "nbformat": 4,
 "nbformat_minor": 5
}
