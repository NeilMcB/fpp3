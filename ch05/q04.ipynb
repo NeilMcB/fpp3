{
 "cells": [
  {
   "cell_type": "code",
   "execution_count": null,
   "id": "rational-flavor",
   "metadata": {},
   "outputs": [],
   "source": [
    "library(fpp3)"
   ]
  },
  {
   "cell_type": "code",
   "execution_count": null,
   "id": "atomic-macedonia",
   "metadata": {},
   "outputs": [],
   "source": [
    "aus_exports <- global_economy %>%\n",
    "    filter(Code == \"AUS\") %>%\n",
    "    select(Exports)\n",
    "\n",
    "fit <- aus_exports %>%\n",
    "    model(NAIVE(Exports))\n",
    "\n",
    "fit %>%\n",
    "    forecast(h = \"10 years\") %>%\n",
    "    autoplot(aus_exports)"
   ]
  },
  {
   "cell_type": "code",
   "execution_count": null,
   "id": "resident-algeria",
   "metadata": {},
   "outputs": [],
   "source": [
    "fit %>% gg_tsresiduals()"
   ]
  },
  {
   "cell_type": "code",
   "execution_count": null,
   "id": "mysterious-latter",
   "metadata": {},
   "outputs": [],
   "source": [
    "aus_bricks <- aus_production %>%\n",
    "    filter_index(\"Q1 1970\" ~ \"Q4 2004\") %>%\n",
    "    select(Bricks)\n",
    "\n",
    "fit <- aus_bricks %>%\n",
    "    model(SNAIVE(Bricks))\n",
    "\n",
    "fit %>%\n",
    "    forecast(h = \"3 years\") %>%\n",
    "    autoplot(aus_bricks)"
   ]
  },
  {
   "cell_type": "code",
   "execution_count": null,
   "id": "proved-bridges",
   "metadata": {},
   "outputs": [],
   "source": [
    "fit %>% gg_tsresiduals()"
   ]
  },
  {
   "cell_type": "code",
   "execution_count": null,
   "id": "worldwide-closure",
   "metadata": {},
   "outputs": [],
   "source": []
  }
 ],
 "metadata": {
  "kernelspec": {
   "display_name": "R",
   "language": "R",
   "name": "ir"
  },
  "language_info": {
   "codemirror_mode": "r",
   "file_extension": ".r",
   "mimetype": "text/x-r-source",
   "name": "R",
   "pygments_lexer": "r",
   "version": "3.6.1"
  }
 },
 "nbformat": 4,
 "nbformat_minor": 5
}
