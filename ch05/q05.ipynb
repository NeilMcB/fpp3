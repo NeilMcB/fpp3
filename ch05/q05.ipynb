{
 "cells": [
  {
   "cell_type": "code",
   "execution_count": null,
   "id": "accompanied-hampton",
   "metadata": {},
   "outputs": [],
   "source": [
    "library(fpp3)"
   ]
  },
  {
   "cell_type": "code",
   "execution_count": null,
   "id": "presidential-sullivan",
   "metadata": {},
   "outputs": [],
   "source": [
    "vic_livestock <- aus_livestock %>%\n",
    "    filter(State == \"Victoria\") %>%\n",
    "    select(-State)"
   ]
  },
  {
   "cell_type": "code",
   "execution_count": null,
   "id": "electrical-newcastle",
   "metadata": {},
   "outputs": [],
   "source": [
    "fit <- vic_livestock %>%\n",
    "    model(SNAIVE(Count))\n",
    "\n",
    "fit %>% \n",
    "    forecast(h = \"3 years\") %>%\n",
    "    autoplot(vic_livestock)"
   ]
  },
  {
   "cell_type": "code",
   "execution_count": null,
   "id": "equipped-hello",
   "metadata": {},
   "outputs": [],
   "source": []
  }
 ],
 "metadata": {
  "kernelspec": {
   "display_name": "R",
   "language": "R",
   "name": "ir"
  },
  "language_info": {
   "codemirror_mode": "r",
   "file_extension": ".r",
   "mimetype": "text/x-r-source",
   "name": "R",
   "pygments_lexer": "r",
   "version": "3.6.1"
  }
 },
 "nbformat": 4,
 "nbformat_minor": 5
}
