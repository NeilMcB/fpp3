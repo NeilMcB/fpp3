{
 "cells": [
  {
   "cell_type": "code",
   "execution_count": null,
   "id": "expressed-victim",
   "metadata": {},
   "outputs": [],
   "source": [
    "library(fpp3)"
   ]
  },
  {
   "cell_type": "code",
   "execution_count": null,
   "id": "statistical-warehouse",
   "metadata": {},
   "outputs": [],
   "source": [
    "global_economy %>%\n",
    "    filter(Code == \"AUS\") %>%\n",
    "    model(RW(Population ~ drift())) %>%\n",
    "    forecast(h = \"10 years\") %>%\n",
    "    autoplot(global_economy)"
   ]
  },
  {
   "cell_type": "code",
   "execution_count": null,
   "id": "native-winning",
   "metadata": {},
   "outputs": [],
   "source": [
    "aus_production %>%\n",
    "    filter_index(\"1970 Q1\" ~ \"2004 Q1\") %>%\n",
    "    model(SNAIVE(Bricks)) %>%\n",
    "    forecast(h = \"3 years\") %>%\n",
    "    autoplot(filter_index(aus_production, \"1970 Q1\" ~ \"2004 Q1\"))"
   ]
  },
  {
   "cell_type": "code",
   "execution_count": null,
   "id": "impossible-april",
   "metadata": {},
   "outputs": [],
   "source": [
    "aus_livestock %>%\n",
    "    filter(Animal == \"Lambs\", State == \"New South Wales\") %>%\n",
    "    model(SNAIVE(Count)) %>%\n",
    "    forecast(h = \"3 years\") %>%\n",
    "    autoplot(aus_livestock)"
   ]
  },
  {
   "cell_type": "code",
   "execution_count": null,
   "id": "mighty-compression",
   "metadata": {},
   "outputs": [],
   "source": [
    "hh_budget %>%\n",
    "    summarise(Wealth = sum(Wealth)) %>%\n",
    "    model(RW(Wealth ~ drift())) %>%\n",
    "    forecast(h = \"3 years\") %>%\n",
    "    autoplot(summarise(hh_budget, Wealth = sum(Wealth)))"
   ]
  },
  {
   "cell_type": "code",
   "execution_count": null,
   "id": "rising-funeral",
   "metadata": {},
   "outputs": [],
   "source": [
    "aus_takeaway_turnover <- aus_retail %>%\n",
    "    filter(Industry == \"Takeaway food services\") %>%\n",
    "    summarise(Turnover = sum(Turnover))\n",
    "\n",
    "aus_takeaway_turnover %>%\n",
    "    model(RW(Turnover ~ drift())) %>%\n",
    "    forecast(h = \"3 years\") %>%\n",
    "    autoplot(aus_takeaway_turnover)"
   ]
  },
  {
   "cell_type": "code",
   "execution_count": null,
   "id": "executed-narrow",
   "metadata": {},
   "outputs": [],
   "source": []
  }
 ],
 "metadata": {
  "kernelspec": {
   "display_name": "R",
   "language": "R",
   "name": "ir"
  },
  "language_info": {
   "codemirror_mode": "r",
   "file_extension": ".r",
   "mimetype": "text/x-r-source",
   "name": "R",
   "pygments_lexer": "r",
   "version": "3.6.1"
  }
 },
 "nbformat": 4,
 "nbformat_minor": 5
}
