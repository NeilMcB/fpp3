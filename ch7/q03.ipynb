{
 "cells": [
  {
   "cell_type": "markdown",
   "id": "female-italy",
   "metadata": {},
   "source": [
    "$$\n",
    "\\begin{align}\n",
    "    \\log y &= \\beta_0 + \\beta_1\\log x + \\epsilon \\\\\n",
    "    y &= e^{\\beta_0 + \\beta_1\\log x + \\epsilon} \\\\\n",
    "      &= e^{\\beta_0} e^{\\log x^{\\beta_1}} e^\\epsilon \\\\\n",
    "      &= x^{\\beta_1}e^{\\beta_0+\\epsilon}\n",
    "\\end{align}\n",
    "$$\n",
    "So:\n",
    "$$\n",
    "\\begin{align}\n",
    "    \\frac{dy}{dx} &= \\beta_1 x^{\\beta_1 - 1}e^{\\beta_0+\\epsilon} \\\\\n",
    "    \\frac{dy}{dx}\\times x &= \\beta_1 x^{\\beta_1}e^{\\beta_0+\\epsilon} \\\\\n",
    "    \\frac{dy}{dx}\\times x &= \\beta_1 y \\\\\n",
    "    \\frac{dy}{dx}\\times \\frac{x}{y} &= \\beta_1\n",
    "\\end{align}\n",
    "$$\n"
   ]
  },
  {
   "cell_type": "code",
   "execution_count": null,
   "id": "compact-petersburg",
   "metadata": {},
   "outputs": [],
   "source": []
  }
 ],
 "metadata": {
  "kernelspec": {
   "display_name": "R",
   "language": "R",
   "name": "ir"
  },
  "language_info": {
   "codemirror_mode": "r",
   "file_extension": ".r",
   "mimetype": "text/x-r-source",
   "name": "R",
   "pygments_lexer": "r",
   "version": "3.6.1"
  }
 },
 "nbformat": 4,
 "nbformat_minor": 5
}
