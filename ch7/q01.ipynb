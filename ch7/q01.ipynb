{
 "cells": [
  {
   "cell_type": "code",
   "execution_count": null,
   "id": "sophisticated-profit",
   "metadata": {},
   "outputs": [],
   "source": [
    "library(fpp3)"
   ]
  },
  {
   "cell_type": "code",
   "execution_count": null,
   "id": "activated-sunday",
   "metadata": {},
   "outputs": [],
   "source": [
    "my_vic_elec <- vic_elec %>%\n",
    "    filter(yearmonth(Time) == yearmonth(\"2014 Jan\")) %>%\n",
    "    index_by(Date = as_date(Date)) %>%\n",
    "    summarise(\n",
    "        Demand = sum(Demand),\n",
    "        Temperature = max(Temperature),\n",
    "    )"
   ]
  },
  {
   "cell_type": "code",
   "execution_count": null,
   "id": "civil-outline",
   "metadata": {},
   "outputs": [],
   "source": [
    "my_vic_elec %>%\n",
    "    ggplot(aes(Temperature, Demand)) +\n",
    "    geom_point() +\n",
    "    geom_smooth(se = FALSE)"
   ]
  },
  {
   "cell_type": "code",
   "execution_count": null,
   "id": "julian-gravity",
   "metadata": {},
   "outputs": [],
   "source": [
    "fit <- my_vic_elec %>%\n",
    "    model(tslm = TSLM(Demand ~ Temperature))\n",
    "\n",
    "report(fit)"
   ]
  },
  {
   "cell_type": "code",
   "execution_count": null,
   "id": "collectible-scratch",
   "metadata": {},
   "outputs": [],
   "source": [
    "fit %>% gg_tsresiduals()"
   ]
  },
  {
   "cell_type": "code",
   "execution_count": null,
   "id": "prerequisite-beach",
   "metadata": {},
   "outputs": [],
   "source": [
    "augment(fit) %>% features(.innov, ljung_box, lag=10, dof=2)"
   ]
  },
  {
   "cell_type": "code",
   "execution_count": null,
   "id": "electoral-aaron",
   "metadata": {},
   "outputs": [],
   "source": [
    "my_vic_elec %>%\n",
    "    model(TSLM(Demand ~ Temperature)) %>%\n",
    "    forecast(\n",
    "        new_data(my_vic_elec, 1) %>%\n",
    "        mutate(Temperature = 35) \n",
    "    ) %>%\n",
    "    autoplot(my_vic_elec)"
   ]
  },
  {
   "cell_type": "code",
   "execution_count": null,
   "id": "thirty-matrix",
   "metadata": {},
   "outputs": [],
   "source": [
    "augment(fit) %>%\n",
    "    pivot_longer(c(Demand, .fitted), names_to=\"Series\") %>%\n",
    "    autoplot(value)"
   ]
  },
  {
   "cell_type": "code",
   "execution_count": null,
   "id": "dutch-pitch",
   "metadata": {},
   "outputs": [],
   "source": []
  }
 ],
 "metadata": {
  "kernelspec": {
   "display_name": "R",
   "language": "R",
   "name": "ir"
  },
  "language_info": {
   "codemirror_mode": "r",
   "file_extension": ".r",
   "mimetype": "text/x-r-source",
   "name": "R",
   "pygments_lexer": "r",
   "version": "3.6.1"
  }
 },
 "nbformat": 4,
 "nbformat_minor": 5
}
