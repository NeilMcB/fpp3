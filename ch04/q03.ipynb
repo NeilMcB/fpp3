{
 "cells": [
  {
   "cell_type": "code",
   "execution_count": null,
   "id": "fatty-partition",
   "metadata": {},
   "outputs": [],
   "source": [
    "library(fpp3)\n",
    "library(broom)"
   ]
  },
  {
   "cell_type": "code",
   "execution_count": null,
   "id": "major-wallace",
   "metadata": {},
   "outputs": [],
   "source": [
    "PBS_features <- PBS %>%\n",
    "    features(Cost, feature_set(pkgs = \"feasts\"))"
   ]
  },
  {
   "cell_type": "code",
   "execution_count": null,
   "id": "hydraulic-brand",
   "metadata": {},
   "outputs": [],
   "source": [
    "pca <- PBS_features %>%\n",
    "    select(-Concession,\t-Type, -ATC1, -ATC2) %>%\n",
    "    na.omit() %>%\n",
    "    prcomp(scale = TRUE) %>%\n",
    "    augment(na.omit(PBS_features))"
   ]
  },
  {
   "cell_type": "code",
   "execution_count": null,
   "id": "growing-bunch",
   "metadata": {},
   "outputs": [],
   "source": [
    "pca %>% \n",
    "    ggplot(aes(.fittedPC1, .fittedPC2)) +\n",
    "    geom_point() +\n",
    "    theme(aspect.ratio = 1)"
   ]
  },
  {
   "cell_type": "code",
   "execution_count": null,
   "id": "exciting-transport",
   "metadata": {},
   "outputs": [],
   "source": []
  },
  {
   "cell_type": "code",
   "execution_count": null,
   "id": "satisfied-partition",
   "metadata": {},
   "outputs": [],
   "source": []
  }
 ],
 "metadata": {
  "kernelspec": {
   "display_name": "R",
   "language": "R",
   "name": "ir"
  },
  "language_info": {
   "codemirror_mode": "r",
   "file_extension": ".r",
   "mimetype": "text/x-r-source",
   "name": "R",
   "pygments_lexer": "r",
   "version": "3.6.1"
  }
 },
 "nbformat": 4,
 "nbformat_minor": 5
}
