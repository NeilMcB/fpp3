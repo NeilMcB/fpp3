{
 "cells": [
  {
   "cell_type": "code",
   "execution_count": null,
   "id": "enormous-algeria",
   "metadata": {},
   "outputs": [],
   "source": [
    "library(fpp3)"
   ]
  },
  {
   "cell_type": "code",
   "execution_count": null,
   "id": "clean-uganda",
   "metadata": {},
   "outputs": [],
   "source": [
    "PBS %>% head(5)"
   ]
  },
  {
   "cell_type": "code",
   "execution_count": null,
   "id": "concrete-preview",
   "metadata": {},
   "outputs": [],
   "source": [
    "(PBS_features <- PBS %>%\n",
    "    features(Cost, list(mean_cost = mean, std_cost = sd)))"
   ]
  },
  {
   "cell_type": "code",
   "execution_count": null,
   "id": "dynamic-continuity",
   "metadata": {},
   "outputs": [],
   "source": [
    "PBS_max_mean <- PBS_features %>%\n",
    "    filter(mean_cost == max(mean_cost))\n",
    "\n",
    "PBS %>%\n",
    "    inner_join(PBS_max_mean) %>%\n",
    "    autoplot(Cost)"
   ]
  },
  {
   "cell_type": "code",
   "execution_count": null,
   "id": "rural-admission",
   "metadata": {},
   "outputs": [],
   "source": [
    "PBS_min_std <- PBS_features %>%\n",
    "    filter(std_cost == min(std_cost))\n",
    "\n",
    "PBS %>%\n",
    "    inner_join(PBS_min_std) %>%\n",
    "    autoplot(Cost)"
   ]
  },
  {
   "cell_type": "code",
   "execution_count": null,
   "id": "sound-illness",
   "metadata": {},
   "outputs": [],
   "source": []
  }
 ],
 "metadata": {
  "kernelspec": {
   "display_name": "R",
   "language": "R",
   "name": "ir"
  },
  "language_info": {
   "codemirror_mode": "r",
   "file_extension": ".r",
   "mimetype": "text/x-r-source",
   "name": "R",
   "pygments_lexer": "r",
   "version": "3.6.1"
  }
 },
 "nbformat": 4,
 "nbformat_minor": 5
}
