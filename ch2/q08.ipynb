{
 "cells": [
  {
   "cell_type": "code",
   "execution_count": null,
   "id": "preliminary-partner",
   "metadata": {},
   "outputs": [],
   "source": [
    "library(fpp3)\n",
    "options(repr.plot.width=10, repr.plot.height=5)\n",
    "set.seed(1902)"
   ]
  },
  {
   "cell_type": "code",
   "execution_count": null,
   "id": "increased-niger",
   "metadata": {},
   "outputs": [],
   "source": [
    "myseries <- aus_retail %>%\n",
    "    filter(`Series ID` == sample(aus_retail$`Series ID`, 1))"
   ]
  },
  {
   "cell_type": "code",
   "execution_count": null,
   "id": "sealed-scholar",
   "metadata": {},
   "outputs": [],
   "source": [
    "autoplot(myseries, Turnover)"
   ]
  },
  {
   "cell_type": "code",
   "execution_count": null,
   "id": "german-jimmy",
   "metadata": {},
   "outputs": [],
   "source": [
    "myseries %>%\n",
    "    gg_season(Turnover)"
   ]
  },
  {
   "cell_type": "code",
   "execution_count": null,
   "id": "extended-concentrate",
   "metadata": {},
   "outputs": [],
   "source": [
    "myseries %>%\n",
    "    gg_subseries(Turnover)"
   ]
  },
  {
   "cell_type": "code",
   "execution_count": null,
   "id": "sexual-finance",
   "metadata": {},
   "outputs": [],
   "source": [
    "myseries %>%\n",
    "    gg_lag(Turnover, geom = \"point\")"
   ]
  },
  {
   "cell_type": "code",
   "execution_count": null,
   "id": "sexual-australian",
   "metadata": {},
   "outputs": [],
   "source": [
    "myseries %>%\n",
    "    ACF(Turnover) %>%\n",
    "    autoplot()"
   ]
  },
  {
   "cell_type": "code",
   "execution_count": null,
   "id": "irish-capacity",
   "metadata": {},
   "outputs": [],
   "source": []
  }
 ],
 "metadata": {
  "kernelspec": {
   "display_name": "R",
   "language": "R",
   "name": "ir"
  },
  "language_info": {
   "codemirror_mode": "r",
   "file_extension": ".r",
   "mimetype": "text/x-r-source",
   "name": "R",
   "pygments_lexer": "r",
   "version": "4.0.3"
  }
 },
 "nbformat": 4,
 "nbformat_minor": 5
}
