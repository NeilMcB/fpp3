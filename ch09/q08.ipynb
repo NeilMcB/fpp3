{
 "cells": [
  {
   "cell_type": "code",
   "execution_count": null,
   "id": "rapid-delta",
   "metadata": {},
   "outputs": [],
   "source": [
    "library(fpp3)"
   ]
  },
  {
   "cell_type": "code",
   "execution_count": null,
   "id": "genuine-circus",
   "metadata": {},
   "outputs": [],
   "source": [
    "us_gdp <- global_economy %>%\n",
    "    filter(Code == \"USA\") %>%\n",
    "    select(GDP)\n",
    "\n",
    "autoplot(us_gdp, GDP)"
   ]
  },
  {
   "cell_type": "code",
   "execution_count": null,
   "id": "understanding-refrigerator",
   "metadata": {},
   "outputs": [],
   "source": [
    "us_gdp %>%\n",
    "    gg_tsdisplay(\n",
    "        difference(log(GDP)) %>% difference(), \n",
    "        plot_type = \"partial\"\n",
    "    )"
   ]
  },
  {
   "cell_type": "code",
   "execution_count": null,
   "id": "soviet-radar",
   "metadata": {},
   "outputs": [],
   "source": [
    "fit <- us_gdp %>%\n",
    "    model(ARIMA(log(GDP)))\n",
    "\n",
    "report(fit)"
   ]
  },
  {
   "cell_type": "code",
   "execution_count": null,
   "id": "equipped-interaction",
   "metadata": {},
   "outputs": [],
   "source": [
    "fit %>% gg_tsresiduals()"
   ]
  },
  {
   "cell_type": "code",
   "execution_count": null,
   "id": "successful-malta",
   "metadata": {},
   "outputs": [],
   "source": []
  }
 ],
 "metadata": {
  "kernelspec": {
   "display_name": "R",
   "language": "R",
   "name": "ir"
  },
  "language_info": {
   "codemirror_mode": "r",
   "file_extension": ".r",
   "mimetype": "text/x-r-source",
   "name": "R",
   "pygments_lexer": "r",
   "version": "3.6.1"
  }
 },
 "nbformat": 4,
 "nbformat_minor": 5
}
