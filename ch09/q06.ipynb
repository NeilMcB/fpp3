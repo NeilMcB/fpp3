{
 "cells": [
  {
   "cell_type": "code",
   "execution_count": null,
   "id": "middle-possible",
   "metadata": {},
   "outputs": [],
   "source": [
    "library(fpp3)"
   ]
  },
  {
   "cell_type": "code",
   "execution_count": null,
   "id": "surface-penny",
   "metadata": {},
   "outputs": [],
   "source": [
    "y <- numeric(100)\n",
    "e <- rnorm(100)\n",
    "for(i in 2:100)\n",
    "  y[i] <- 0.8*y[i-1] + e[i]\n",
    "sim <- tsibble(idx = seq_len(100), y = y, index = idx)\n",
    "\n",
    "autoplot(sim, y)"
   ]
  },
  {
   "cell_type": "code",
   "execution_count": null,
   "id": "vital-integer",
   "metadata": {},
   "outputs": [],
   "source": [
    "y <- numeric(100)\n",
    "e <- rnorm(100)\n",
    "for(i in 2:100)\n",
    "  y[i] <- y[i-1] + 0.1 * e[i]\n",
    "sim <- tsibble(idx = seq_len(100), y = y, index = idx)\n",
    "\n",
    "autoplot(sim, y)"
   ]
  },
  {
   "cell_type": "code",
   "execution_count": null,
   "id": "demonstrated-prime",
   "metadata": {},
   "outputs": [],
   "source": [
    "y <- numeric(100)\n",
    "e <- rnorm(100)\n",
    "for(i in 2:100)\n",
    "  y[i] <- 0.6*y[i-1] + 0.6*e[i]\n",
    "sim <- tsibble(idx = seq_len(100), y = y, index = idx)\n",
    "\n",
    "autoplot(sim, y)"
   ]
  },
  {
   "cell_type": "code",
   "execution_count": null,
   "id": "nonprofit-flesh",
   "metadata": {},
   "outputs": [],
   "source": [
    "y <- numeric(100)\n",
    "e <- rnorm(100)\n",
    "for(i in 3:100)\n",
    "  y[i] <- -0.8*y[i-1] + 0.3*y[i-2] + e[i]\n",
    "sim <- tsibble(idx = seq_len(100), y = y, index = idx)\n",
    "\n",
    "autoplot(sim, y)"
   ]
  },
  {
   "cell_type": "code",
   "execution_count": null,
   "id": "industrial-postage",
   "metadata": {},
   "outputs": [],
   "source": []
  }
 ],
 "metadata": {
  "kernelspec": {
   "display_name": "R",
   "language": "R",
   "name": "ir"
  },
  "language_info": {
   "codemirror_mode": "r",
   "file_extension": ".r",
   "mimetype": "text/x-r-source",
   "name": "R",
   "pygments_lexer": "r",
   "version": "3.6.1"
  }
 },
 "nbformat": 4,
 "nbformat_minor": 5
}
