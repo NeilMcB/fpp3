{
 "cells": [
  {
   "cell_type": "code",
   "execution_count": null,
   "id": "champion-messenger",
   "metadata": {},
   "outputs": [],
   "source": [
    "library(fpp3)"
   ]
  },
  {
   "cell_type": "code",
   "execution_count": null,
   "id": "proprietary-train",
   "metadata": {},
   "outputs": [],
   "source": [
    "aus_airpassengers %>% autoplot(Passengers)"
   ]
  },
  {
   "cell_type": "code",
   "execution_count": null,
   "id": "rolled-coalition",
   "metadata": {},
   "outputs": [],
   "source": [
    "fit <- aus_airpassengers %>%\n",
    "    model(ARIMA(Passengers))\n",
    "\n",
    "report(fit)"
   ]
  },
  {
   "cell_type": "code",
   "execution_count": null,
   "id": "connected-prior",
   "metadata": {},
   "outputs": [],
   "source": [
    "fit %>% gg_tsresiduals()"
   ]
  },
  {
   "cell_type": "code",
   "execution_count": null,
   "id": "closing-intellectual",
   "metadata": {},
   "outputs": [],
   "source": [
    "fit %>%\n",
    "    forecast(h = 10) %>%\n",
    "    autoplot(aus_airpassengers)"
   ]
  },
  {
   "cell_type": "code",
   "execution_count": null,
   "id": "controlling-prefix",
   "metadata": {},
   "outputs": [],
   "source": [
    "aus_airpassengers %>%\n",
    "    model(\n",
    "        arima010_d = ARIMA(Passengers ~ 1 + pdq(0,1,0)),\n",
    "        arima212_d = ARIMA(Passengers ~ 1 + pdq(2,1,2)),\n",
    "        arima021_d = ARIMA(Passengers ~ 1 + pdq(0,2,1)),\n",
    "    ) %>%\n",
    "    forecast(h = 10) %>%\n",
    "    autoplot(aus_airpassengers)"
   ]
  },
  {
   "cell_type": "code",
   "execution_count": null,
   "id": "respiratory-thomas",
   "metadata": {},
   "outputs": [],
   "source": []
  }
 ],
 "metadata": {
  "kernelspec": {
   "display_name": "R",
   "language": "R",
   "name": "ir"
  },
  "language_info": {
   "codemirror_mode": "r",
   "file_extension": ".r",
   "mimetype": "text/x-r-source",
   "name": "R",
   "pygments_lexer": "r",
   "version": "3.6.1"
  }
 },
 "nbformat": 4,
 "nbformat_minor": 5
}
