{
 "cells": [
  {
   "cell_type": "code",
   "execution_count": null,
   "id": "injured-satin",
   "metadata": {},
   "outputs": [],
   "source": [
    "library(fpp3)"
   ]
  },
  {
   "cell_type": "code",
   "execution_count": null,
   "id": "above-plate",
   "metadata": {},
   "outputs": [],
   "source": [
    "tur_gdp <- global_economy %>% \n",
    "    filter(Code == \"TUR\") %>%\n",
    "    select(GDP)\n",
    "\n",
    "tur_gdp %>% autoplot(GDP)"
   ]
  },
  {
   "cell_type": "code",
   "execution_count": null,
   "id": "dirty-purpose",
   "metadata": {},
   "outputs": [],
   "source": [
    "lambda <- tur_gdp %>%\n",
    "    features(GDP, guerrero) %>%\n",
    "    pull(lambda_guerrero)\n",
    "\n",
    "tur_gdp %>% gg_tsdisplay(\n",
    "    difference(box_cox(GDP, lambda)), plot_type = \"partial\"\n",
    ")"
   ]
  },
  {
   "cell_type": "code",
   "execution_count": null,
   "id": "surrounded-injection",
   "metadata": {},
   "outputs": [],
   "source": [
    "tas_accommodation <- aus_accommodation %>%\n",
    "    filter(State == \"Tasmania\")\n",
    "\n",
    "autoplot(tas_accommodation, Takings)"
   ]
  },
  {
   "cell_type": "code",
   "execution_count": null,
   "id": "interested-eight",
   "metadata": {},
   "outputs": [],
   "source": [
    "lambda <- tas_accommodation %>%\n",
    "    features(Takings, guerrero) %>%\n",
    "    pull(lambda_guerrero)\n",
    "\n",
    "tas_accommodation %>% gg_tsdisplay(\n",
    "    difference(difference(box_cox(Takings, lambda), 4)), plot_type = \"partial\"\n",
    ")"
   ]
  },
  {
   "cell_type": "code",
   "execution_count": null,
   "id": "informational-sword",
   "metadata": {},
   "outputs": [],
   "source": [
    "souvenirs %>% autoplot(Sales)"
   ]
  },
  {
   "cell_type": "code",
   "execution_count": null,
   "id": "dramatic-concrete",
   "metadata": {},
   "outputs": [],
   "source": [
    "lambda <- souvenirs %>%\n",
    "    features(Sales, guerrero) %>%\n",
    "    pull(lambda_guerrero)\n",
    "\n",
    "souvenirs %>% gg_tsdisplay(\n",
    "    difference(difference(box_cox(Sales, lambda), 12)), plot_type = \"partial\"\n",
    ")"
   ]
  },
  {
   "cell_type": "code",
   "execution_count": null,
   "id": "usual-portable",
   "metadata": {},
   "outputs": [],
   "source": []
  }
 ],
 "metadata": {
  "kernelspec": {
   "display_name": "R",
   "language": "R",
   "name": "ir"
  },
  "language_info": {
   "codemirror_mode": "r",
   "file_extension": ".r",
   "mimetype": "text/x-r-source",
   "name": "R",
   "pygments_lexer": "r",
   "version": "3.6.1"
  }
 },
 "nbformat": 4,
 "nbformat_minor": 5
}
