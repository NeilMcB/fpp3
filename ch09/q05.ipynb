{
 "cells": [
  {
   "cell_type": "code",
   "execution_count": null,
   "id": "amateur-security",
   "metadata": {},
   "outputs": [],
   "source": [
    "library(fpp3)"
   ]
  },
  {
   "cell_type": "code",
   "execution_count": null,
   "id": "industrial-evening",
   "metadata": {},
   "outputs": [],
   "source": [
    "set.seed(12345678)\n",
    "myseries <- aus_retail %>%\n",
    "  filter(`Series ID` == sample(aus_retail$`Series ID`,1))\n",
    "\n",
    "autoplot(myseries, Turnover)"
   ]
  },
  {
   "cell_type": "code",
   "execution_count": null,
   "id": "funky-addition",
   "metadata": {},
   "outputs": [],
   "source": [
    "lambda <- myseries %>%\n",
    "    features(Turnover, guerrero) %>%\n",
    "    pull(lambda_guerrero)"
   ]
  },
  {
   "cell_type": "code",
   "execution_count": null,
   "id": "driving-bible",
   "metadata": {},
   "outputs": [],
   "source": [
    "myseries %>% gg_tsdisplay(\n",
    "    box_cox(Turnover, lambda) %>% difference(12) %>% difference(),\n",
    "    plot_type = \"partial\"\n",
    ")"
   ]
  },
  {
   "cell_type": "code",
   "execution_count": null,
   "id": "exterior-tunisia",
   "metadata": {},
   "outputs": [],
   "source": []
  }
 ],
 "metadata": {
  "kernelspec": {
   "display_name": "R",
   "language": "R",
   "name": "ir"
  },
  "language_info": {
   "codemirror_mode": "r",
   "file_extension": ".r",
   "mimetype": "text/x-r-source",
   "name": "R",
   "pygments_lexer": "r",
   "version": "3.6.1"
  }
 },
 "nbformat": 4,
 "nbformat_minor": 5
}
