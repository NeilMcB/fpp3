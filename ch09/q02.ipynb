{
 "cells": [
  {
   "cell_type": "code",
   "execution_count": null,
   "id": "floating-lodging",
   "metadata": {},
   "outputs": [],
   "source": [
    "library(fpp3)"
   ]
  },
  {
   "cell_type": "code",
   "execution_count": null,
   "id": "controversial-aquatic",
   "metadata": {},
   "outputs": [],
   "source": [
    "amzn_stock <- gafa_stock %>%\n",
    "    filter(Symbol == \"AMZN\") %>%\n",
    "    mutate(trading_day = row_number()) %>%\n",
    "    update_tsibble(index = trading_day)"
   ]
  },
  {
   "cell_type": "code",
   "execution_count": null,
   "id": "gothic-tournament",
   "metadata": {},
   "outputs": [],
   "source": [
    "amzn_stock %>% \n",
    "    gg_tsdisplay(Close, plot_type = \"partial\")"
   ]
  },
  {
   "cell_type": "code",
   "execution_count": null,
   "id": "engaged-channel",
   "metadata": {},
   "outputs": [],
   "source": [
    "amzn_stock %>% \n",
    "    gg_tsdisplay(difference(log(Close)), plot_type = \"partial\")"
   ]
  },
  {
   "cell_type": "code",
   "execution_count": null,
   "id": "lesser-gibson",
   "metadata": {},
   "outputs": [],
   "source": []
  }
 ],
 "metadata": {
  "kernelspec": {
   "display_name": "R",
   "language": "R",
   "name": "ir"
  },
  "language_info": {
   "codemirror_mode": "r",
   "file_extension": ".r",
   "mimetype": "text/x-r-source",
   "name": "R",
   "pygments_lexer": "r",
   "version": "3.6.1"
  }
 },
 "nbformat": 4,
 "nbformat_minor": 5
}
