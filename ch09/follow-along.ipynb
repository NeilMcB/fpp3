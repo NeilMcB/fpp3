{
 "cells": [
  {
   "cell_type": "code",
   "execution_count": null,
   "id": "caring-christopher",
   "metadata": {},
   "outputs": [],
   "source": [
    "library(fpp3)"
   ]
  },
  {
   "cell_type": "code",
   "execution_count": null,
   "id": "irish-geometry",
   "metadata": {},
   "outputs": [],
   "source": [
    "google_2015 <- gafa_stock %>%\n",
    "    filter(Symbol == \"GOOG\") %>%\n",
    "    mutate(Day = row_number()) %>%\n",
    "    update_tsibble(index = Day)"
   ]
  },
  {
   "cell_type": "code",
   "execution_count": null,
   "id": "chinese-dispatch",
   "metadata": {},
   "outputs": [],
   "source": [
    "google_2015 %>%\n",
    "    mutate(diff_close = difference(Close)) %>%\n",
    "    autoplot(diff_close)"
   ]
  },
  {
   "cell_type": "code",
   "execution_count": null,
   "id": "decent-round",
   "metadata": {},
   "outputs": [],
   "source": [
    "PBS %>%\n",
    "    filter(ATC2 == \"H02\") %>%\n",
    "    summarise(Cost = sum(Cost)/1e6) %>%\n",
    "    transmute(\n",
    "        `Sales ($million)` = Cost,\n",
    "        `Log sales` = log(Cost),\n",
    "        `Annual change in log sales` = difference(log(Cost), 12),\n",
    "        `Doubly differenced log sales` = difference(difference(log(Cost), 12)),\n",
    "    ) %>%\n",
    "    pivot_longer(-Month, names_to=\"Type\", values_to=\"Sales\") %>%\n",
    "    mutate(\n",
    "        Type = factor(Type, levels = c(\n",
    "          \"Sales ($million)\",\n",
    "          \"Log sales\",\n",
    "          \"Annual change in log sales\",\n",
    "          \"Doubly differenced log sales\"))\n",
    "    ) %>%\n",
    "    ggplot(aes(Month, Sales)) +\n",
    "    geom_line() +\n",
    "    facet_grid(vars(Type), scales = \"free_y\")"
   ]
  },
  {
   "cell_type": "code",
   "execution_count": null,
   "id": "genetic-klein",
   "metadata": {},
   "outputs": [],
   "source": [
    "global_economy %>%\n",
    "    filter(Code == \"EGY\") %>%\n",
    "    autoplot(Exports)"
   ]
  },
  {
   "cell_type": "code",
   "execution_count": null,
   "id": "deluxe-values",
   "metadata": {},
   "outputs": [],
   "source": [
    "fit <- global_economy %>%\n",
    "    filter(Code == \"EGY\") %>%\n",
    "    model(ARIMA(Exports))\n",
    "\n",
    "report(fit)"
   ]
  },
  {
   "cell_type": "code",
   "execution_count": null,
   "id": "reasonable-genetics",
   "metadata": {},
   "outputs": [],
   "source": [
    "fit %>%\n",
    "    forecast(h = 10) %>%\n",
    "    autoplot(global_economy)"
   ]
  },
  {
   "cell_type": "code",
   "execution_count": null,
   "id": "purple-harvest",
   "metadata": {},
   "outputs": [],
   "source": [
    "global_economy %>%\n",
    "    filter(Code == \"EGY\") %>%\n",
    "    ACF(Exports) %>%\n",
    "    autoplot()"
   ]
  },
  {
   "cell_type": "code",
   "execution_count": null,
   "id": "distinguished-concentration",
   "metadata": {},
   "outputs": [],
   "source": [
    "global_economy %>%\n",
    "    filter(Code == \"EGY\") %>%\n",
    "    gg_tsdisplay(Exports, plot_type = \"partial\")"
   ]
  },
  {
   "cell_type": "code",
   "execution_count": null,
   "id": "corresponding-jones",
   "metadata": {},
   "outputs": [],
   "source": [
    "global_economy %>%\n",
    "    filter(Code == \"EGY\") %>%\n",
    "    model(ARIMA(Exports)) %>%\n",
    "    report()"
   ]
  },
  {
   "cell_type": "code",
   "execution_count": null,
   "id": "normal-drive",
   "metadata": {},
   "outputs": [],
   "source": [
    "caf_economy <- global_economy %>%\n",
    "    filter(Code == \"CAF\")"
   ]
  },
  {
   "cell_type": "code",
   "execution_count": null,
   "id": "worse-personality",
   "metadata": {},
   "outputs": [],
   "source": [
    "caf_economy %>% autoplot(Exports)"
   ]
  },
  {
   "cell_type": "code",
   "execution_count": null,
   "id": "quarterly-might",
   "metadata": {},
   "outputs": [],
   "source": [
    "caf_economy %>%\n",
    "    gg_tsdisplay(difference(Exports), plot_type = \"partial\")"
   ]
  },
  {
   "cell_type": "code",
   "execution_count": null,
   "id": "fossil-virtue",
   "metadata": {},
   "outputs": [],
   "source": [
    "fit <- caf_economy %>%\n",
    "      model(\n",
    "        arima210 = ARIMA(Exports ~ pdq(2,1,0)),\n",
    "        arima013 = ARIMA(Exports ~ pdq(0,1,3)),\n",
    "        stepwise = ARIMA(Exports),\n",
    "        search = ARIMA(Exports, stepwise=FALSE)\n",
    "      )\n",
    "\n",
    "fit %>% pivot_longer(!Country, names_to = \"Model name\", values_to = \"Orders\")"
   ]
  },
  {
   "cell_type": "code",
   "execution_count": null,
   "id": "separate-generator",
   "metadata": {},
   "outputs": [],
   "source": [
    "glance(fit) %>% arrange(AICc) %>% select(.model:BIC)"
   ]
  },
  {
   "cell_type": "code",
   "execution_count": null,
   "id": "metallic-cooperative",
   "metadata": {},
   "outputs": [],
   "source": [
    "fit %>% \n",
    "    select(search) %>%\n",
    "    gg_tsresiduals()"
   ]
  },
  {
   "cell_type": "code",
   "execution_count": null,
   "id": "alternate-crawford",
   "metadata": {},
   "outputs": [],
   "source": [
    "fit %>%\n",
    "    select(search) %>%\n",
    "    augment() %>%\n",
    "    features(.innov, ljung_box, lag = 10, dof = 3)"
   ]
  },
  {
   "cell_type": "code",
   "execution_count": null,
   "id": "vocational-nomination",
   "metadata": {},
   "outputs": [],
   "source": [
    "leisure <- us_employment %>%\n",
    "    filter(Title == \"Leisure and Hospitality\", year(Month) > 2000) %>%\n",
    "    mutate(Employed = Employed / 1000) %>%\n",
    "    select(Month, Employed)\n",
    "\n",
    "autoplot(leisure, Employed)"
   ]
  },
  {
   "cell_type": "code",
   "execution_count": null,
   "id": "apparent-elite",
   "metadata": {},
   "outputs": [],
   "source": [
    "leisure %>% gg_tsdisplay(\n",
    "    difference(Employed, 12) %>% difference(), \n",
    "    plot_type = \"partial\",\n",
    "    lag = 36\n",
    ")"
   ]
  },
  {
   "cell_type": "code",
   "execution_count": null,
   "id": "tracked-turner",
   "metadata": {},
   "outputs": [],
   "source": [
    "fit <- leisure %>%\n",
    "    model(\n",
    "        arima012011 = ARIMA(Employed ~ pdq(0,1,2) + PDQ(0,1,1)),\n",
    "        arima210011 = ARIMA(Employed ~ pdq(2,1,0) + PDQ(0,1,1)),\n",
    "        auto = ARIMA(Employed, stepwise = FALSE, approx = FALSE)\n",
    "    )\n",
    "\n",
    "fit %>% pivot_longer(\n",
    "    everything(), names_to = \"Model name\", values_to = \"Order\"\n",
    ")"
   ]
  },
  {
   "cell_type": "code",
   "execution_count": null,
   "id": "affecting-stage",
   "metadata": {},
   "outputs": [],
   "source": [
    "glance(fit) %>% arrange(AICc) %>% select(.model:BIC)"
   ]
  },
  {
   "cell_type": "code",
   "execution_count": null,
   "id": "formed-developer",
   "metadata": {},
   "outputs": [],
   "source": [
    "fit %>% select(auto) %>% gg_tsresiduals(lag = 36)"
   ]
  },
  {
   "cell_type": "code",
   "execution_count": null,
   "id": "paperback-speaking",
   "metadata": {},
   "outputs": [],
   "source": [
    "fit %>%\n",
    "    select(auto) %>%\n",
    "    augment() %>%\n",
    "    features(.innov, ljung_box, lag = 36, dof = 6)"
   ]
  },
  {
   "cell_type": "code",
   "execution_count": null,
   "id": "canadian-premiere",
   "metadata": {},
   "outputs": [],
   "source": [
    "h02 <- PBS %>%\n",
    "  filter(ATC2 == \"H02\") %>%\n",
    "  summarise(Cost = sum(Cost)/1e6)\n",
    "h02 %>%\n",
    "  mutate(log(Cost)) %>%\n",
    "  pivot_longer(-Month) %>%\n",
    "  ggplot(aes(x = Month, y = value)) +\n",
    "  geom_line() +\n",
    "  facet_grid(name ~ ., scales = \"free_y\") +\n",
    "  labs(y=\"\", title=\"Corticosteroid drug scripts (H02)\")"
   ]
  },
  {
   "cell_type": "code",
   "execution_count": null,
   "id": "resident-steel",
   "metadata": {},
   "outputs": [],
   "source": [
    "h02 %>% gg_tsdisplay(\n",
    "    difference(log(Cost), 12), plot_type = \"partial\", lag = 36\n",
    ")"
   ]
  },
  {
   "cell_type": "code",
   "execution_count": null,
   "id": "patient-major",
   "metadata": {},
   "outputs": [],
   "source": []
  }
 ],
 "metadata": {
  "kernelspec": {
   "display_name": "R",
   "language": "R",
   "name": "ir"
  },
  "language_info": {
   "codemirror_mode": "r",
   "file_extension": ".r",
   "mimetype": "text/x-r-source",
   "name": "R",
   "pygments_lexer": "r",
   "version": "3.6.1"
  }
 },
 "nbformat": 4,
 "nbformat_minor": 5
}
