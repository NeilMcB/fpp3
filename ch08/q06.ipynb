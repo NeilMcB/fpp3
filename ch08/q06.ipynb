{
 "cells": [
  {
   "cell_type": "code",
   "execution_count": null,
   "id": "broke-setup",
   "metadata": {},
   "outputs": [],
   "source": [
    "library(fpp3)"
   ]
  },
  {
   "cell_type": "code",
   "execution_count": null,
   "id": "first-twenty",
   "metadata": {},
   "outputs": [],
   "source": [
    "chn_economy <- global_economy %>%\n",
    "    filter(Country == \"China\")\n",
    "\n",
    "chn_economy %>%\n",
    "    model(\n",
    "        \"SES\" = ETS(Exports ~ error(\"A\") + trend(\"N\") + season(\"N\")),\n",
    "        \"Holt\" = ETS(Exports ~ error(\"A\") + trend(\"A\") + season(\"N\")),\n",
    "        \"Damped\" = ETS(Exports ~ error(\"A\") + trend(\"Ad\") + season(\"N\")),\n",
    "        \"Log\" = ETS(log(Exports)  ~ error(\"A\") + trend(\"Ad\") + season(\"N\"))\n",
    "    ) %>%\n",
    "    forecast(h = \"10 years\") %>%\n",
    "    autoplot(chn_economy)"
   ]
  },
  {
   "cell_type": "code",
   "execution_count": null,
   "id": "human-brain",
   "metadata": {},
   "outputs": [],
   "source": []
  }
 ],
 "metadata": {
  "kernelspec": {
   "display_name": "R",
   "language": "R",
   "name": "ir"
  },
  "language_info": {
   "codemirror_mode": "r",
   "file_extension": ".r",
   "mimetype": "text/x-r-source",
   "name": "R",
   "pygments_lexer": "r",
   "version": "3.6.1"
  }
 },
 "nbformat": 4,
 "nbformat_minor": 5
}
