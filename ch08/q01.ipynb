{
 "cells": [
  {
   "cell_type": "code",
   "execution_count": null,
   "id": "pursuant-netscape",
   "metadata": {},
   "outputs": [],
   "source": [
    "library(fpp3)"
   ]
  },
  {
   "cell_type": "code",
   "execution_count": null,
   "id": "unavailable-messenger",
   "metadata": {},
   "outputs": [],
   "source": [
    "vic_pigs <- aus_livestock %>%\n",
    "    filter(State == \"Victoria\", Animal == \"Pigs\") %>%\n",
    "    select(-State, -Animal)\n",
    "\n",
    "fit <- vic_pigs %>%\n",
    "    model(ETS(Count ~ error(\"A\") + trend(\"N\") + season(\"N\")))\n",
    "\n",
    "report(fit)"
   ]
  },
  {
   "cell_type": "code",
   "execution_count": null,
   "id": "virgin-steal",
   "metadata": {},
   "outputs": [],
   "source": [
    "fit %>%\n",
    "    forecast(h = \"4 months\") %>%\n",
    "    autoplot(vic_pigs)"
   ]
  },
  {
   "cell_type": "code",
   "execution_count": null,
   "id": "toxic-daily",
   "metadata": {},
   "outputs": [],
   "source": []
  }
 ],
 "metadata": {
  "kernelspec": {
   "display_name": "R",
   "language": "R",
   "name": "ir"
  },
  "language_info": {
   "codemirror_mode": "r",
   "file_extension": ".r",
   "mimetype": "text/x-r-source",
   "name": "R",
   "pygments_lexer": "r",
   "version": "3.6.1"
  }
 },
 "nbformat": 4,
 "nbformat_minor": 5
}
