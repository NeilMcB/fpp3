{
 "cells": [
  {
   "cell_type": "code",
   "execution_count": null,
   "id": "daily-given",
   "metadata": {},
   "outputs": [],
   "source": [
    "library(fpp3)"
   ]
  },
  {
   "cell_type": "code",
   "execution_count": null,
   "id": "studied-lesbian",
   "metadata": {},
   "outputs": [],
   "source": [
    "tourism <- tsibble::tourism %>%\n",
    "  mutate(State = recode(State,\n",
    "    `New South Wales` = \"NSW\",\n",
    "    `Northern Territory` = \"NT\",\n",
    "    `Queensland` = \"QLD\",\n",
    "    `South Australia` = \"SA\",\n",
    "    `Tasmania` = \"TAS\",\n",
    "    `Victoria` = \"VIC\",\n",
    "    `Western Australia` = \"WA\"\n",
    "  ))"
   ]
  },
  {
   "cell_type": "code",
   "execution_count": null,
   "id": "agricultural-topic",
   "metadata": {},
   "outputs": [],
   "source": [
    "tourism_hts <- tourism %>%\n",
    "    aggregate_key(State / Region, Trips = sum(Trips))"
   ]
  },
  {
   "cell_type": "code",
   "execution_count": null,
   "id": "extra-disability",
   "metadata": {},
   "outputs": [],
   "source": [
    "tourism_hts %>%\n",
    "  filter(is_aggregated(Region)) %>%\n",
    "  autoplot(Trips) +\n",
    "  labs(y = \"Trips ('000)\",\n",
    "       title = \"Australian tourism: national and states\") +\n",
    "  facet_wrap(vars(State), scales = \"free_y\", ncol = 3) +\n",
    "  theme(legend.position = \"none\")"
   ]
  },
  {
   "cell_type": "code",
   "execution_count": null,
   "id": "small-acrobat",
   "metadata": {},
   "outputs": [],
   "source": []
  }
 ],
 "metadata": {
  "kernelspec": {
   "display_name": "R",
   "language": "R",
   "name": "ir"
  },
  "language_info": {
   "codemirror_mode": "r",
   "file_extension": ".r",
   "mimetype": "text/x-r-source",
   "name": "R",
   "pygments_lexer": "r",
   "version": "3.6.1"
  }
 },
 "nbformat": 4,
 "nbformat_minor": 5
}
