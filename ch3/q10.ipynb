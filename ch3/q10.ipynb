{
 "cells": [
  {
   "cell_type": "code",
   "execution_count": null,
   "id": "biological-today",
   "metadata": {},
   "outputs": [],
   "source": [
    "library(fpp3)"
   ]
  },
  {
   "cell_type": "code",
   "execution_count": null,
   "id": "reduced-nitrogen",
   "metadata": {},
   "outputs": [],
   "source": [
    "autoplot(canadian_gas, Volume)"
   ]
  },
  {
   "cell_type": "code",
   "execution_count": null,
   "id": "adequate-cause",
   "metadata": {},
   "outputs": [],
   "source": [
    "gg_subseries(canadian_gas, Volume)"
   ]
  },
  {
   "cell_type": "code",
   "execution_count": null,
   "id": "civil-object",
   "metadata": {},
   "outputs": [],
   "source": [
    "gg_season(canadian_gas, Volume)"
   ]
  },
  {
   "cell_type": "code",
   "execution_count": null,
   "id": "embedded-ensemble",
   "metadata": {},
   "outputs": [],
   "source": [
    "stl_decomp <- canadian_gas %>%\n",
    "    model(\n",
    "        STL(Volume ~ trend(window = 13) + season(window = 7), robust = TRUE)\n",
    "    ) %>%\n",
    "    components()\n",
    "\n",
    "autoplot(stl_decomp)"
   ]
  },
  {
   "cell_type": "code",
   "execution_count": null,
   "id": "homeless-limit",
   "metadata": {},
   "outputs": [],
   "source": [
    "stl_decomp %>%\n",
    "    gg_season(season_year)"
   ]
  },
  {
   "cell_type": "code",
   "execution_count": null,
   "id": "primary-indonesia",
   "metadata": {},
   "outputs": [],
   "source": [
    "autoplot(stl_decomp, season_adjust)"
   ]
  },
  {
   "cell_type": "code",
   "execution_count": null,
   "id": "automated-processing",
   "metadata": {},
   "outputs": [],
   "source": []
  }
 ],
 "metadata": {
  "kernelspec": {
   "display_name": "R",
   "language": "R",
   "name": "ir"
  },
  "language_info": {
   "codemirror_mode": "r",
   "file_extension": ".r",
   "mimetype": "text/x-r-source",
   "name": "R",
   "pygments_lexer": "r",
   "version": "3.6.1"
  }
 },
 "nbformat": 4,
 "nbformat_minor": 5
}
