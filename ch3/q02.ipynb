{
 "cells": [
  {
   "cell_type": "code",
   "execution_count": null,
   "id": "accessory-calgary",
   "metadata": {},
   "outputs": [],
   "source": [
    "library(fpp3)\n",
    "options(repr.plot.width=10, repr.plot.height=5)"
   ]
  },
  {
   "cell_type": "code",
   "execution_count": null,
   "id": "voluntary-mitchell",
   "metadata": {},
   "outputs": [],
   "source": [
    "cpi_1960 <- us_economy %>% \n",
    "    slice(n = 1) %>%\n",
    "    pull(CPI)\n",
    "\n",
    "us_economy <- global_economy %>%\n",
    "    filter(Code == \"USA\") %>%\n",
    "    mutate(\n",
    "        GDP_per_cap = GDP / Population,\n",
    "        GDP_per_cap_adj = (GDP_per_cap / CPI) * cpi_1960,\n",
    "    ) %>%\n",
    "    pivot_longer(starts_with(\"GDP\"), values_to = \"GDP\")\n",
    "\n",
    "ggplot(us_economy, aes(Year, GDP)) +\n",
    "    geom_line() +\n",
    "    facet_grid(name ~ ., scales = \"free_y\")"
   ]
  },
  {
   "cell_type": "code",
   "execution_count": null,
   "id": "confidential-capital",
   "metadata": {},
   "outputs": [],
   "source": [
    "aus_livestock %>%\n",
    "    filter(Animal == \"Bulls, bullocks and steers\") %>%\n",
    "    group_by(State) %>%\n",
    "    mutate(Count = Count / mean(Count)) %>%\n",
    "    autoplot(Count)"
   ]
  },
  {
   "cell_type": "code",
   "execution_count": null,
   "id": "lucky-findings",
   "metadata": {},
   "outputs": [],
   "source": []
  }
 ],
 "metadata": {
  "kernelspec": {
   "display_name": "R",
   "language": "R",
   "name": "ir"
  },
  "language_info": {
   "codemirror_mode": "r",
   "file_extension": ".r",
   "mimetype": "text/x-r-source",
   "name": "R",
   "pygments_lexer": "r",
   "version": "4.0.3"
  }
 },
 "nbformat": 4,
 "nbformat_minor": 5
}
