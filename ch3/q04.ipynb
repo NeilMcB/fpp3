{
 "cells": [
  {
   "cell_type": "code",
   "execution_count": null,
   "id": "authentic-shooting",
   "metadata": {},
   "outputs": [],
   "source": [
    "library(fpp3)\n",
    "options(repr.plot.width=10, repr.plot.height=5)"
   ]
  },
  {
   "cell_type": "code",
   "execution_count": null,
   "id": "threatened-episode",
   "metadata": {},
   "outputs": [],
   "source": [
    "set.seed(12345678)\n",
    "myseries <- aus_retail %>%\n",
    "  filter(`Series ID` == sample(aus_retail$`Series ID`,1))"
   ]
  },
  {
   "cell_type": "code",
   "execution_count": null,
   "id": "straight-plasma",
   "metadata": {},
   "outputs": [],
   "source": [
    "myseries %>% autoplot(Turnover)"
   ]
  },
  {
   "cell_type": "code",
   "execution_count": null,
   "id": "threatened-ivory",
   "metadata": {},
   "outputs": [],
   "source": [
    "lambda <- myseries %>%\n",
    "    features(Turnover, guerrero) %>%\n",
    "    pull(lambda_guerrero)\n",
    "\n",
    "myseries %>% autoplot(box_cox(Turnover, lambda))"
   ]
  },
  {
   "cell_type": "code",
   "execution_count": null,
   "id": "planned-joint",
   "metadata": {},
   "outputs": [],
   "source": []
  }
 ],
 "metadata": {
  "kernelspec": {
   "display_name": "R",
   "language": "R",
   "name": "ir"
  },
  "language_info": {
   "codemirror_mode": "r",
   "file_extension": ".r",
   "mimetype": "text/x-r-source",
   "name": "R",
   "pygments_lexer": "r",
   "version": "4.0.3"
  }
 },
 "nbformat": 4,
 "nbformat_minor": 5
}
