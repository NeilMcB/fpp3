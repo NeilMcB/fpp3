{
 "cells": [
  {
   "cell_type": "code",
   "execution_count": null,
   "id": "listed-transcription",
   "metadata": {},
   "outputs": [],
   "source": [
    "library(fpp3)\n",
    "options(repr.plot.width=10, repr.plot.height=5)"
   ]
  },
  {
   "cell_type": "code",
   "execution_count": null,
   "id": "knowing-progressive",
   "metadata": {},
   "outputs": [],
   "source": [
    "autoplot(canadian_gas, Volume)"
   ]
  },
  {
   "cell_type": "code",
   "execution_count": null,
   "id": "fiscal-synthesis",
   "metadata": {},
   "outputs": [],
   "source": [
    "lambda <- canadian_gas %>%\n",
    "    features(Volume, guerrero) %>%\n",
    "    pull(lambda_guerrero)\n",
    "\n",
    "canadian_gas %>%\n",
    "    autoplot(box_cox(Volume, lambda))"
   ]
  },
  {
   "cell_type": "markdown",
   "id": "hollow-refund",
   "metadata": {},
   "source": [
    "The size of variation doesn't depend on the underlying volume - i.e. we are not seeing a simple multiplicative effect."
   ]
  },
  {
   "cell_type": "code",
   "execution_count": null,
   "id": "dynamic-chart",
   "metadata": {},
   "outputs": [],
   "source": []
  }
 ],
 "metadata": {
  "kernelspec": {
   "display_name": "R",
   "language": "R",
   "name": "ir"
  },
  "language_info": {
   "codemirror_mode": "r",
   "file_extension": ".r",
   "mimetype": "text/x-r-source",
   "name": "R",
   "pygments_lexer": "r",
   "version": "4.0.3"
  }
 },
 "nbformat": 4,
 "nbformat_minor": 5
}
