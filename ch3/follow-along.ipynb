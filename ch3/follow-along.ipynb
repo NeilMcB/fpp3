{
 "cells": [
  {
   "cell_type": "code",
   "execution_count": null,
   "id": "victorian-fisher",
   "metadata": {},
   "outputs": [],
   "source": [
    "library(fpp3)\n",
    "options(repr.plot.width=10, repr.plot.height=5)"
   ]
  },
  {
   "cell_type": "code",
   "execution_count": null,
   "id": "faced-institution",
   "metadata": {},
   "outputs": [],
   "source": [
    "global_economy %>%\n",
    "    filter(Country == 'Australia') %>%\n",
    "    autoplot(GDP / Population) +\n",
    "    labs(y = \"GDP per Capita [$]\")"
   ]
  },
  {
   "cell_type": "code",
   "execution_count": null,
   "id": "bored-lotus",
   "metadata": {},
   "outputs": [],
   "source": [
    "print_retail <- aus_retail %>%\n",
    "    filter(Industry == \"Newspaper and book retailing\") %>%\n",
    "    group_by(Industry) %>%\n",
    "    index_by(Year = year(Month)) %>%\n",
    "    summarise(Turnover = sum(Turnover))\n",
    "\n",
    "aus_economy <- global_economy %>%\n",
    "    filter(Code == \"AUS\")\n",
    "\n",
    "print_retail %>%\n",
    "    left_join(aus_economy, by = \"Year\") %>%\n",
    "    mutate(AdjTurnover = Turnover / CPI * 100) %>%\n",
    "    pivot_longer(c(Turnover, AdjTurnover), values_to = \"Turnover\") %>%\n",
    "    ggplot(aes(Year, Turnover)) +\n",
    "    geom_line() +\n",
    "    facet_grid(name ~ ., scales = \"free_y\") +\n",
    "    labs(y = \"Turnover [$A]\", title = \"Australian Print Industry\")"
   ]
  },
  {
   "cell_type": "code",
   "execution_count": null,
   "id": "focused-fossil",
   "metadata": {},
   "outputs": [],
   "source": [
    "lambda <- aus_production %>%\n",
    "    features(Gas, features = guerrero) %>%\n",
    "    pull(lambda_guerrero)\n",
    "\n",
    "aus_production %>%\n",
    "    autoplot(box_cox(Gas, lambda))"
   ]
  },
  {
   "cell_type": "code",
   "execution_count": null,
   "id": "configured-theory",
   "metadata": {},
   "outputs": [],
   "source": [
    "us_retail_employment <- us_employment %>%\n",
    "    filter(year(Month) >= 1990, Title == \"Retail Trade\") %>%\n",
    "    select(-Series_ID)\n",
    "\n",
    "autoplot(us_retail_employment, Employed) +\n",
    "    labs(y = \"People [thousands]\", title = \"Total employment in US retail\")"
   ]
  },
  {
   "cell_type": "code",
   "execution_count": null,
   "id": "regular-affect",
   "metadata": {},
   "outputs": [],
   "source": [
    "dcmp <- us_retail_employment %>%\n",
    "    model(STL(Employed))\n",
    "\n",
    "autoplot(us_retail_employment, Employed, color = \"gray\") +\n",
    "    autolayer(components(dcmp), trend, color = \"red\") +\n",
    "    labs(y = \"People [thousands]\", title = \"Total employment in US retail\")"
   ]
  },
  {
   "cell_type": "code",
   "execution_count": null,
   "id": "solar-animation",
   "metadata": {},
   "outputs": [],
   "source": [
    "components(dcmp) %>% autoplot"
   ]
  },
  {
   "cell_type": "code",
   "execution_count": null,
   "id": "invisible-pearl",
   "metadata": {},
   "outputs": [],
   "source": [
    "dcmp <- us_retail_employment %>%\n",
    "    model(STL(Employed))\n",
    "\n",
    "autoplot(us_retail_employment, Employed, color = \"gray\") +\n",
    "    autolayer(components(dcmp), season_adjust, color = \"blue\") +\n",
    "    labs(y = \"People [thousands]\", title = \"Total employment in US retail\")"
   ]
  },
  {
   "cell_type": "code",
   "execution_count": null,
   "id": "heavy-slave",
   "metadata": {},
   "outputs": [],
   "source": [
    "aus_exports <- global_economy %>%\n",
    "    filter(Code == \"AUS\") %>%\n",
    "    mutate(\n",
    "        `5-MA` = slider::slide_dbl(Exports, mean, .before = 2, .after = 2, .complete = TRUE)\n",
    "    )\n",
    "\n",
    "aus_exports %>%\n",
    "    autoplot(Exports) +\n",
    "    autolayer(aus_exports, `5-MA`, color = \"red\") +\n",
    "    labs(y = \"% of GDP\", title = \"Total Australian exports\")"
   ]
  },
  {
   "cell_type": "code",
   "execution_count": null,
   "id": "actual-devil",
   "metadata": {},
   "outputs": [],
   "source": []
  }
 ],
 "metadata": {
  "kernelspec": {
   "display_name": "R",
   "language": "R",
   "name": "ir"
  },
  "language_info": {
   "codemirror_mode": "r",
   "file_extension": ".r",
   "mimetype": "text/x-r-source",
   "name": "R",
   "pygments_lexer": "r",
   "version": "4.0.3"
  }
 },
 "nbformat": 4,
 "nbformat_minor": 5
}
