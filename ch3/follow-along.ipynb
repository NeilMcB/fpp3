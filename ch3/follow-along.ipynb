{
 "cells": [
  {
   "cell_type": "code",
   "execution_count": null,
   "id": "large-series",
   "metadata": {},
   "outputs": [],
   "source": [
    "library(fpp3)\n",
    "options(repr.plot.width=10, repr.plot.height=5)"
   ]
  },
  {
   "cell_type": "code",
   "execution_count": null,
   "id": "collective-internet",
   "metadata": {},
   "outputs": [],
   "source": [
    "global_economy %>%\n",
    "    filter(Country == 'Australia') %>%\n",
    "    autoplot(GDP / Population) +\n",
    "    labs(y = \"GDP per Capita [$]\")"
   ]
  },
  {
   "cell_type": "code",
   "execution_count": null,
   "id": "former-workplace",
   "metadata": {},
   "outputs": [],
   "source": [
    "print_retail <- aus_retail %>%\n",
    "    filter(Industry == \"Newspaper and book retailing\") %>%\n",
    "    group_by(Industry) %>%\n",
    "    index_by(Year = year(Month)) %>%\n",
    "    summarise(Turnover = sum(Turnover))\n",
    "\n",
    "aus_economy <- global_economy %>%\n",
    "    filter(Code == \"AUS\")\n",
    "\n",
    "print_retail %>%\n",
    "    left_join(aus_economy, by = \"Year\") %>%\n",
    "    mutate(AdjTurnover = Turnover / CPI * 100) %>%\n",
    "    pivot_longer(c(Turnover, AdjTurnover), values_to = \"Turnover\") %>%\n",
    "    ggplot(aes(Year, Turnover)) +\n",
    "    geom_line() +\n",
    "    facet_grid(name ~ ., scales = \"free_y\") +\n",
    "    labs(y = \"Turnover [$A]\", title = \"Australian Print Industry\")"
   ]
  },
  {
   "cell_type": "code",
   "execution_count": null,
   "id": "tough-module",
   "metadata": {},
   "outputs": [],
   "source": [
    "lambda <- aus_production %>%\n",
    "    features(Gas, features = guerrero) %>%\n",
    "    pull(lambda_guerrero)\n",
    "\n",
    "aus_production %>%\n",
    "    autoplot(box_cox(Gas, lambda))"
   ]
  },
  {
   "cell_type": "code",
   "execution_count": null,
   "id": "diverse-legend",
   "metadata": {},
   "outputs": [],
   "source": [
    "us_retail_employment <- us_employment %>%\n",
    "    filter(year(Month) >= 1990, Title == \"Retail Trade\") %>%\n",
    "    select(-Series_ID)\n",
    "\n",
    "autoplot(us_retail_employment, Employed) +\n",
    "    labs(y = \"People [thousands]\", title = \"Total employment in US retail\")"
   ]
  },
  {
   "cell_type": "code",
   "execution_count": null,
   "id": "rolled-circular",
   "metadata": {},
   "outputs": [],
   "source": [
    "dcmp <- us_retail_employment %>%\n",
    "    model(STL(Employed))\n",
    "\n",
    "autoplot(us_retail_employment, Employed, color = \"gray\") +\n",
    "    autolayer(components(dcmp), trend, color = \"red\") +\n",
    "    labs(y = \"People [thousands]\", title = \"Total employment in US retail\")"
   ]
  },
  {
   "cell_type": "code",
   "execution_count": null,
   "id": "jewish-conducting",
   "metadata": {},
   "outputs": [],
   "source": [
    "components(dcmp) %>% autoplot"
   ]
  },
  {
   "cell_type": "code",
   "execution_count": null,
   "id": "democratic-outside",
   "metadata": {},
   "outputs": [],
   "source": [
    "dcmp <- us_retail_employment %>%\n",
    "    model(STL(Employed))\n",
    "\n",
    "autoplot(us_retail_employment, Employed, color = \"gray\") +\n",
    "    autolayer(components(dcmp), season_adjust, color = \"blue\") +\n",
    "    labs(y = \"People [thousands]\", title = \"Total employment in US retail\")"
   ]
  },
  {
   "cell_type": "code",
   "execution_count": null,
   "id": "alert-league",
   "metadata": {},
   "outputs": [],
   "source": [
    "aus_exports <- global_economy %>%\n",
    "    filter(Code == \"AUS\") %>%\n",
    "    mutate(\n",
    "        `5-MA` = slider::slide_dbl(Exports, mean, .before = 2, .after = 2, .complete = TRUE)\n",
    "    )\n",
    "\n",
    "aus_exports %>%\n",
    "    autoplot(Exports) +\n",
    "    autolayer(aus_exports, `5-MA`, color = \"red\") +\n",
    "    labs(y = \"% of GDP\", title = \"Total Australian exports\")"
   ]
  },
  {
   "cell_type": "code",
   "execution_count": null,
   "id": "unlikely-default",
   "metadata": {},
   "outputs": [],
   "source": [
    "beer <- aus_production %>%\n",
    "    filter(year(Quarter) >= 1992) %>%\n",
    "    select(Quarter, Beer)\n",
    "\n",
    "beer_ma <- beer %>%\n",
    "    mutate(\n",
    "        `4-MA` = slider::slide_dbl(Beer, mean, .before = 1, .after = 2, .complete = TRUE),\n",
    "        `2x4-MA` = slider::slide_dbl(`4-MA`, mean, .before = 1, .after = 0, .complete = TRUE),\n",
    "    )"
   ]
  },
  {
   "cell_type": "code",
   "execution_count": null,
   "id": "anticipated-commercial",
   "metadata": {},
   "outputs": [],
   "source": [
    "us_retail_employment_ma <- us_retail_employment %>%\n",
    "    mutate(\n",
    "        `12-MA` = slider::slide_dbl(Employed, mean, .before = 5, .after = 6, .complete = TRUE),\n",
    "        `2x12-MA` = slider::slide_dbl(`12-MA`, mean, .before = 1, .after = 0, .complete = TRUE),\n",
    "    )\n",
    "\n",
    "autoplot(us_retail_employment_ma, `2x12-MA`, color = 'red') +\n",
    "    autolayer(us_retail_employment_ma, Employed, color = 'grey')"
   ]
  },
  {
   "cell_type": "code",
   "execution_count": null,
   "id": "driving-blind",
   "metadata": {},
   "outputs": [],
   "source": [
    "us_retail_employment %>%\n",
    "    model(\n",
    "        classical_decomposition(Employed, type = \"multiplicative\")\n",
    "    ) %>%\n",
    "    components() %>%\n",
    "    autoplot() + \n",
    "    labs(y = \"People [Thousands]\")"
   ]
  },
  {
   "cell_type": "code",
   "execution_count": null,
   "id": "blessed-plymouth",
   "metadata": {},
   "outputs": [],
   "source": [
    "us_retail_employment %>%\n",
    "    model(\n",
    "        STL(Employed ~ trend(window = 7) + season(window = 5), robust = TRUE)\n",
    "    ) %>%\n",
    "    components() %>%\n",
    "    autoplot()"
   ]
  },
  {
   "cell_type": "code",
   "execution_count": null,
   "id": "acquired-steps",
   "metadata": {},
   "outputs": [],
   "source": []
  }
 ],
 "metadata": {
  "kernelspec": {
   "display_name": "R",
   "language": "R",
   "name": "ir"
  },
  "language_info": {
   "codemirror_mode": "r",
   "file_extension": ".r",
   "mimetype": "text/x-r-source",
   "name": "R",
   "pygments_lexer": "r",
   "version": "3.6.1"
  }
 },
 "nbformat": 4,
 "nbformat_minor": 5
}
