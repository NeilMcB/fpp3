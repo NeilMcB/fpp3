{
 "cells": [
  {
   "cell_type": "code",
   "execution_count": null,
   "id": "lasting-ideal",
   "metadata": {},
   "outputs": [],
   "source": [
    "from datetime import datetime\n",
    "import matplotlib.pyplot as plt\n",
    "import pandas as pd\n",
    "from scipy.stats import boxcox\n",
    "from statsmodels.tsa.seasonal import STL"
   ]
  },
  {
   "cell_type": "code",
   "execution_count": null,
   "id": "sixth-newcastle",
   "metadata": {},
   "outputs": [],
   "source": [
    "src_url = 'https://raw.githubusercontent.com/jenfly/opsd/master/opsd_germany_daily.csv'\n",
    "df = pd.read_csv(src_url, index_col='Date')\n",
    "df.index = pd.to_datetime(df.index)\n",
    "df = df[df.index >= datetime.strptime('2010-01-01', '%Y-%m-%d')]\n",
    "df = df.resample('W').sum()"
   ]
  },
  {
   "cell_type": "code",
   "execution_count": null,
   "id": "detailed-electron",
   "metadata": {},
   "outputs": [],
   "source": [
    "df"
   ]
  },
  {
   "cell_type": "code",
   "execution_count": null,
   "id": "expressed-annual",
   "metadata": {},
   "outputs": [],
   "source": [
    "fig, axs = plt.subplots(nrows=2, ncols=1, figsize=(18,14), sharey=True)\n",
    "\n",
    "axs[0].plot(df['Wind'])\n",
    "axs[0].plot(df['Wind'].rolling(4).mean().rolling(2).mean())\n",
    "\n",
    "axs[1].plot(df['Wind'] - df['Wind'].rolling(8).mean())"
   ]
  },
  {
   "cell_type": "code",
   "execution_count": null,
   "id": "hidden-democrat",
   "metadata": {},
   "outputs": [],
   "source": [
    "stl = STL(df['Wind'], period=7, seasonal=365)"
   ]
  },
  {
   "cell_type": "code",
   "execution_count": null,
   "id": "proprietary-kuwait",
   "metadata": {},
   "outputs": [],
   "source": [
    "res = stl.fit()"
   ]
  },
  {
   "cell_type": "code",
   "execution_count": null,
   "id": "corresponding-benjamin",
   "metadata": {},
   "outputs": [],
   "source": [
    "fig = res.plot()"
   ]
  },
  {
   "cell_type": "code",
   "execution_count": null,
   "id": "cooked-family",
   "metadata": {},
   "outputs": [],
   "source": [
    "plt.plot(df['Wind'] - res.seasonal)"
   ]
  },
  {
   "cell_type": "code",
   "execution_count": null,
   "id": "synthetic-haiti",
   "metadata": {},
   "outputs": [],
   "source": [
    "\n",
    "plt.plot(df['Wind'].rolling(4).mean())"
   ]
  },
  {
   "cell_type": "code",
   "execution_count": null,
   "id": "logical-reply",
   "metadata": {},
   "outputs": [],
   "source": []
  }
 ],
 "metadata": {
  "kernelspec": {
   "display_name": "Python 3",
   "language": "python",
   "name": "python3"
  },
  "language_info": {
   "codemirror_mode": {
    "name": "ipython",
    "version": 3
   },
   "file_extension": ".py",
   "mimetype": "text/x-python",
   "name": "python",
   "nbconvert_exporter": "python",
   "pygments_lexer": "ipython3",
   "version": "3.9.1"
  }
 },
 "nbformat": 4,
 "nbformat_minor": 5
}
