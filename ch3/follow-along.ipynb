{
 "cells": [
  {
   "cell_type": "code",
   "execution_count": null,
   "id": "opposed-editor",
   "metadata": {},
   "outputs": [],
   "source": [
    "from datetime import datetime\n",
    "import matplotlib.pyplot as plt\n",
    "import pandas as pd\n",
    "from scipy.stats import boxcox\n",
    "from statsmodels.tsa.seasonal import STL"
   ]
  },
  {
   "cell_type": "code",
   "execution_count": null,
   "id": "driven-multimedia",
   "metadata": {},
   "outputs": [],
   "source": [
    "src_url = 'https://raw.githubusercontent.com/jenfly/opsd/master/opsd_germany_daily.csv'\n",
    "df = pd.read_csv(src_url, index_col='Date')\n",
    "df.index = pd.to_datetime(df.index)\n",
    "df = df[df.index >= datetime.strptime('2010-01-01', '%Y-%m-%d')]"
   ]
  },
  {
   "cell_type": "code",
   "execution_count": null,
   "id": "convertible-grant",
   "metadata": {},
   "outputs": [],
   "source": [
    "df"
   ]
  },
  {
   "cell_type": "code",
   "execution_count": null,
   "id": "proprietary-washington",
   "metadata": {},
   "outputs": [],
   "source": [
    "fig, ax = plt.subplots(figsize=(18,7))\n",
    "ax.plot(df['Wind'])"
   ]
  },
  {
   "cell_type": "code",
   "execution_count": null,
   "id": "color-privilege",
   "metadata": {},
   "outputs": [],
   "source": [
    "fig, ax = plt.subplots(figsize=(18,7))\n",
    "\n",
    "ax.plot(boxcox(df['Wind'], lmbda=0.1))"
   ]
  },
  {
   "cell_type": "code",
   "execution_count": null,
   "id": "related-manner",
   "metadata": {},
   "outputs": [],
   "source": [
    "stl = STL(df['Wind'].resample('W').sum(), period=7, seasonal=365)"
   ]
  },
  {
   "cell_type": "code",
   "execution_count": null,
   "id": "creative-impossible",
   "metadata": {},
   "outputs": [],
   "source": [
    "res = stl.fit()"
   ]
  },
  {
   "cell_type": "code",
   "execution_count": null,
   "id": "sharp-petite",
   "metadata": {},
   "outputs": [],
   "source": [
    "fig = res.plot()"
   ]
  },
  {
   "cell_type": "code",
   "execution_count": null,
   "id": "integral-commission",
   "metadata": {},
   "outputs": [],
   "source": [
    "plt.plot(df['Wind'].resample('W').sum() - res.seasonal)"
   ]
  },
  {
   "cell_type": "code",
   "execution_count": null,
   "id": "capital-rings",
   "metadata": {},
   "outputs": [],
   "source": []
  }
 ],
 "metadata": {
  "kernelspec": {
   "display_name": "Python 3",
   "language": "python",
   "name": "python3"
  },
  "language_info": {
   "codemirror_mode": {
    "name": "ipython",
    "version": 3
   },
   "file_extension": ".py",
   "mimetype": "text/x-python",
   "name": "python",
   "nbconvert_exporter": "python",
   "pygments_lexer": "ipython3",
   "version": "3.9.1"
  }
 },
 "nbformat": 4,
 "nbformat_minor": 5
}
