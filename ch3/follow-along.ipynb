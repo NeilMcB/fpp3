{
 "cells": [
  {
   "cell_type": "code",
   "execution_count": null,
   "id": "thorough-substitute",
   "metadata": {},
   "outputs": [],
   "source": [
    "from datetime import datetime\n",
    "import matplotlib.pyplot as plt\n",
    "import numpy as np\n",
    "import pandas as pd\n",
    "from scipy.stats import boxcox\n",
    "from sklearn.preprocessing import MinMaxScaler\n",
    "from statsmodels.datasets import co2\n",
    "from statsmodels.tsa.seasonal import STL"
   ]
  },
  {
   "cell_type": "code",
   "execution_count": null,
   "id": "executive-lemon",
   "metadata": {
    "tags": []
   },
   "outputs": [],
   "source": [
    "src_url = 'https://raw.githubusercontent.com/jenfly/opsd/master/opsd_germany_daily.csv'\n",
    "df = pd.read_csv(src_url, index_col='Date')\n",
    "df.index = pd.to_datetime(df.index)\n",
    "df = df[df.index >= datetime.strptime('2010-01-01', '%Y-%m-%d')]\n",
    "df = df.resample('W').sum()"
   ]
  },
  {
   "cell_type": "code",
   "execution_count": null,
   "id": "specific-karen",
   "metadata": {},
   "outputs": [],
   "source": [
    "df"
   ]
  },
  {
   "cell_type": "code",
   "execution_count": null,
   "id": "educated-journey",
   "metadata": {},
   "outputs": [],
   "source": [
    "df['trend_Wind'] = df['Wind'].rolling(52, center=True).mean().rolling(2, center=True).mean()\n",
    "df['detrended_Wind'] = df['Wind'] - df['trend_Wind']\n",
    "\n",
    "df['seasonal_Wind'] = df['detrended_Wind'].groupby(df.index.isocalendar().week).transform(np.mean)\n",
    "df['seasonal_Wind'] = df['seasonal_Wind'] - df['seasonal_Wind'].mean()"
   ]
  },
  {
   "cell_type": "code",
   "execution_count": null,
   "id": "developed-original",
   "metadata": {},
   "outputs": [],
   "source": [
    "fig, axs = plt.subplots(nrows=4, ncols=1, figsize=(18,21), sharey=True, sharex=True)\n",
    "\n",
    "axs[0].plot(df['Wind'])\n",
    "axs[1].plot(df['trend_Wind'])\n",
    "axs[2].plot(df['seasonal_Wind'])\n",
    "axs[3].plot(df['Wind'] - df['trend_Wind'] - df['seasonal_Wind'])"
   ]
  },
  {
   "cell_type": "code",
   "execution_count": null,
   "id": "stone-italic",
   "metadata": {},
   "outputs": [],
   "source": [
    "stl = STL(df['Wind'], seasonal=7, trend=105)"
   ]
  },
  {
   "cell_type": "code",
   "execution_count": null,
   "id": "metropolitan-certification",
   "metadata": {},
   "outputs": [],
   "source": [
    "res = stl.fit()"
   ]
  },
  {
   "cell_type": "code",
   "execution_count": null,
   "id": "driving-nancy",
   "metadata": {},
   "outputs": [],
   "source": [
    "fig = res.plot()"
   ]
  },
  {
   "cell_type": "code",
   "execution_count": null,
   "id": "stupid-arcade",
   "metadata": {},
   "outputs": [],
   "source": [
    "res.resid.hist()"
   ]
  },
  {
   "cell_type": "code",
   "execution_count": null,
   "id": "inclusive-announcement",
   "metadata": {},
   "outputs": [],
   "source": [
    "df = co2.load(as_pandas=True).data.resample('M').mean().fillna(10_000)"
   ]
  },
  {
   "cell_type": "code",
   "execution_count": null,
   "id": "portable-engineering",
   "metadata": {},
   "outputs": [],
   "source": [
    "stl = STL(df, seasonal=17)\n",
    "res = stl.fit()"
   ]
  },
  {
   "cell_type": "code",
   "execution_count": null,
   "id": "violent-cleaners",
   "metadata": {},
   "outputs": [],
   "source": [
    "res.plot()\n",
    "plt.show()"
   ]
  },
  {
   "cell_type": "code",
   "execution_count": null,
   "id": "unlike-electric",
   "metadata": {},
   "outputs": [],
   "source": [
    "stl.period"
   ]
  },
  {
   "cell_type": "code",
   "execution_count": null,
   "id": "polar-orbit",
   "metadata": {},
   "outputs": [],
   "source": []
  }
 ],
 "metadata": {
  "kernelspec": {
   "display_name": "Python 3",
   "language": "python",
   "name": "python3"
  },
  "language_info": {
   "codemirror_mode": {
    "name": "ipython",
    "version": 3
   },
   "file_extension": ".py",
   "mimetype": "text/x-python",
   "name": "python",
   "nbconvert_exporter": "python",
   "pygments_lexer": "ipython3",
   "version": "3.9.1"
  }
 },
 "nbformat": 4,
 "nbformat_minor": 5
}
