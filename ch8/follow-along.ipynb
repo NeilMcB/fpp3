{
 "cells": [
  {
   "cell_type": "code",
   "execution_count": null,
   "id": "inclusive-habitat",
   "metadata": {},
   "outputs": [],
   "source": [
    "library(fpp3)"
   ]
  },
  {
   "cell_type": "code",
   "execution_count": null,
   "id": "imported-desert",
   "metadata": {},
   "outputs": [],
   "source": [
    "algeria_economy <- global_economy %>%\n",
    "    filter(Country == \"Algeria\")\n",
    "\n",
    "algeria_economy %>%\n",
    "    autoplot(Exports)"
   ]
  },
  {
   "cell_type": "code",
   "execution_count": null,
   "id": "random-credits",
   "metadata": {},
   "outputs": [],
   "source": [
    "fit <- algeria_economy %>%\n",
    "    model(ETS(Exports ~ error(\"A\") + trend(\"N\") + season(\"N\")))\n",
    "          \n",
    "fc <- fit %>%\n",
    "    forecast(h = 5)"
   ]
  },
  {
   "cell_type": "code",
   "execution_count": null,
   "id": "plastic-termination",
   "metadata": {},
   "outputs": [],
   "source": [
    "fc %>%\n",
    "    autoplot(algeria_economy) +\n",
    "    geom_line(aes(y = .fitted), col = \"red\", data = augment(fit))"
   ]
  },
  {
   "cell_type": "code",
   "execution_count": null,
   "id": "lined-mortality",
   "metadata": {},
   "outputs": [],
   "source": [
    "report(fit)"
   ]
  },
  {
   "cell_type": "code",
   "execution_count": null,
   "id": "spectacular-basin",
   "metadata": {},
   "outputs": [],
   "source": [
    "aus_economy <- global_economy %>%\n",
    "    filter(Code == \"AUS\") %>%\n",
    "    mutate(Pop = Population / 1e6)\n",
    "\n",
    "autoplot(aus_economy, Pop)"
   ]
  },
  {
   "cell_type": "code",
   "execution_count": null,
   "id": "explicit-toddler",
   "metadata": {},
   "outputs": [],
   "source": [
    "aus_economy %>%\n",
    "    model(\n",
    "        `Holt` = ETS(Pop ~ error(\"A\") + trend(\"A\") + season(\"N\")),\n",
    "        `Damped Holt` = ETS(Pop ~ error(\"A\") + trend(\"Ad\", phi = 0.9) + season(\"N\"))\n",
    "    ) %>%\n",
    "    forecast(h = 15) %>%\n",
    "    autoplot(aus_economy, level = NULL) +\n",
    "    guides(colour = guide_legend(title = \"Forecast\"))"
   ]
  },
  {
   "cell_type": "code",
   "execution_count": null,
   "id": "ongoing-burner",
   "metadata": {},
   "outputs": [],
   "source": [
    "www_usage <- as_tsibble(WWWusage)\n",
    "www_usage %>%\n",
    "    autoplot(value)"
   ]
  },
  {
   "cell_type": "code",
   "execution_count": null,
   "id": "quiet-collins",
   "metadata": {},
   "outputs": [],
   "source": [
    "www_usage %>%\n",
    "    stretch_tsibble(.init = 10) %>%\n",
    "    model(\n",
    "        SES = ETS(value ~ error(\"A\") + trend(\"N\") + season(\"N\")),\n",
    "        Holt = ETS(value ~ error(\"A\") + trend(\"A\") + season(\"N\")),\n",
    "        Damped = ETS(value ~ error(\"A\") + trend(\"Ad\") + season(\"N\"))\n",
    "    ) %>%\n",
    "    forecast(h = 1) %>%\n",
    "    accuracy(www_usage)"
   ]
  },
  {
   "cell_type": "code",
   "execution_count": null,
   "id": "elementary-emerald",
   "metadata": {},
   "outputs": [],
   "source": [
    "fit <- www_usage %>%\n",
    "    model(\n",
    "        Damped = ETS(value ~ error(\"A\") + trend(\"Ad\") + season(\"N\"))\n",
    "    )\n",
    "\n",
    "tidy(fit)"
   ]
  },
  {
   "cell_type": "code",
   "execution_count": null,
   "id": "capital-profit",
   "metadata": {},
   "outputs": [],
   "source": [
    "fit %>%\n",
    "    forecast(h = 10) %>%\n",
    "    autoplot(www_usage) +\n",
    "    labs(x = \"Minute\", y = \"# Users\")"
   ]
  },
  {
   "cell_type": "code",
   "execution_count": null,
   "id": "different-stewart",
   "metadata": {},
   "outputs": [],
   "source": []
  }
 ],
 "metadata": {
  "kernelspec": {
   "display_name": "R",
   "language": "R",
   "name": "ir"
  },
  "language_info": {
   "codemirror_mode": "r",
   "file_extension": ".r",
   "mimetype": "text/x-r-source",
   "name": "R",
   "pygments_lexer": "r",
   "version": "3.6.1"
  }
 },
 "nbformat": 4,
 "nbformat_minor": 5
}
