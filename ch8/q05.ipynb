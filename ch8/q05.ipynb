{
 "cells": [
  {
   "cell_type": "code",
   "execution_count": null,
   "id": "linear-responsibility",
   "metadata": {},
   "outputs": [],
   "source": [
    "library(fpp3)"
   ]
  },
  {
   "cell_type": "code",
   "execution_count": null,
   "id": "expired-extent",
   "metadata": {},
   "outputs": [],
   "source": [
    "uk_economy <- global_economy %>%\n",
    "    filter(Country == \"United Kingdom\")\n",
    "\n",
    "autoplot(uk_economy, Exports)"
   ]
  },
  {
   "cell_type": "code",
   "execution_count": null,
   "id": "greenhouse-bearing",
   "metadata": {},
   "outputs": [],
   "source": [
    "fit <- uk_economy %>%\n",
    "    model(ETS(Exports ~ error(\"A\") + trend(\"A\") + season(\"N\")))\n",
    "\n",
    "fit %>%\n",
    "    forecast(h = \"5 years\") %>%\n",
    "    autoplot(uk_economy)"
   ]
  },
  {
   "cell_type": "code",
   "execution_count": null,
   "id": "intended-coating",
   "metadata": {},
   "outputs": [],
   "source": []
  }
 ],
 "metadata": {
  "kernelspec": {
   "display_name": "R",
   "language": "R",
   "name": "ir"
  },
  "language_info": {
   "codemirror_mode": "r",
   "file_extension": ".r",
   "mimetype": "text/x-r-source",
   "name": "R",
   "pygments_lexer": "r",
   "version": "3.6.1"
  }
 },
 "nbformat": 4,
 "nbformat_minor": 5
}
