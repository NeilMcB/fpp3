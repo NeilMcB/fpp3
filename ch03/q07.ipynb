{
 "cells": [
  {
   "cell_type": "code",
   "execution_count": null,
   "id": "entertaining-regulation",
   "metadata": {},
   "outputs": [],
   "source": [
    "library(fpp3)"
   ]
  },
  {
   "cell_type": "code",
   "execution_count": null,
   "id": "charitable-former",
   "metadata": {},
   "outputs": [],
   "source": [
    "gas <- tail(aus_production, 5*4) %>% \n",
    "    select(Gas)\n",
    "#     mutate(Gas = replace(Gas, Gas==233, 533))\n",
    "#     mutate(Gas = replace(Gas, Gas==210, 533))"
   ]
  },
  {
   "cell_type": "code",
   "execution_count": null,
   "id": "political-cabinet",
   "metadata": {},
   "outputs": [],
   "source": [
    "autoplot(gas, Gas)"
   ]
  },
  {
   "cell_type": "code",
   "execution_count": null,
   "id": "attractive-designer",
   "metadata": {},
   "outputs": [],
   "source": [
    "gas_comps <- gas %>%\n",
    "    model(\n",
    "        classical_decomposition(Gas, type = \"multiplicative\")\n",
    "    ) %>%\n",
    "    components()"
   ]
  },
  {
   "cell_type": "code",
   "execution_count": null,
   "id": "vertical-camping",
   "metadata": {},
   "outputs": [],
   "source": [
    "autoplot(gas_comps, season_adjust)"
   ]
  },
  {
   "cell_type": "code",
   "execution_count": null,
   "id": "direct-spanish",
   "metadata": {},
   "outputs": [],
   "source": []
  }
 ],
 "metadata": {
  "kernelspec": {
   "display_name": "R",
   "language": "R",
   "name": "ir"
  },
  "language_info": {
   "codemirror_mode": "r",
   "file_extension": ".r",
   "mimetype": "text/x-r-source",
   "name": "R",
   "pygments_lexer": "r",
   "version": "3.6.1"
  }
 },
 "nbformat": 4,
 "nbformat_minor": 5
}
