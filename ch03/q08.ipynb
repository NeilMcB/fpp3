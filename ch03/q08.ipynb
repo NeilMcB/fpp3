{
 "cells": [
  {
   "cell_type": "code",
   "execution_count": null,
   "id": "loaded-garden",
   "metadata": {},
   "outputs": [],
   "source": [
    "library(\"fpp3\")"
   ]
  },
  {
   "cell_type": "code",
   "execution_count": null,
   "id": "contemporary-council",
   "metadata": {},
   "outputs": [],
   "source": [
    "set.seed(12345678)\n",
    "myseries <- aus_retail %>%\n",
    "  filter(`Series ID` == sample(aus_retail$`Series ID`,1))"
   ]
  },
  {
   "cell_type": "code",
   "execution_count": null,
   "id": "difficult-facial",
   "metadata": {},
   "outputs": [],
   "source": [
    "x11_dcmp <- myseries %>%\n",
    "    model(x11 = feasts:::X11(Turnover, type = \"multiplicative\")) %>%\n",
    "    components()\n",
    "\n",
    "autoplot(x11_dcmp) +\n",
    "    labs(title = \"Additive X11 decomposition of US retail employment\")"
   ]
  },
  {
   "cell_type": "code",
   "execution_count": null,
   "id": "logical-quilt",
   "metadata": {},
   "outputs": [],
   "source": [
    "x11_dcmp %>%\n",
    "  gg_subseries(seasonal)"
   ]
  },
  {
   "cell_type": "code",
   "execution_count": null,
   "id": "apart-dodge",
   "metadata": {},
   "outputs": [],
   "source": []
  }
 ],
 "metadata": {
  "kernelspec": {
   "display_name": "R",
   "language": "R",
   "name": "ir"
  },
  "language_info": {
   "codemirror_mode": "r",
   "file_extension": ".r",
   "mimetype": "text/x-r-source",
   "name": "R",
   "pygments_lexer": "r",
   "version": "3.6.1"
  }
 },
 "nbformat": 4,
 "nbformat_minor": 5
}
