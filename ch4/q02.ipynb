{
 "cells": [
  {
   "cell_type": "code",
   "execution_count": null,
   "id": "motivated-payroll",
   "metadata": {},
   "outputs": [],
   "source": [
    "library(fpp3)\n",
    "library(GGally)\n",
    "library(glue)"
   ]
  },
  {
   "cell_type": "code",
   "execution_count": null,
   "id": "directed-fourth",
   "metadata": {},
   "outputs": [],
   "source": [
    "holiday_features <- tourism %>%\n",
    "    filter(Purpose == \"Holiday\") %>%\n",
    "    features(Trips, feat_stl)"
   ]
  },
  {
   "cell_type": "code",
   "execution_count": null,
   "id": "correct-algeria",
   "metadata": {},
   "outputs": [],
   "source": [
    "holiday_features %>% head(5)"
   ]
  },
  {
   "cell_type": "code",
   "execution_count": null,
   "id": "friendly-thanks",
   "metadata": {},
   "outputs": [],
   "source": [
    "holiday_features %>%\n",
    "    select_at(vars(contains(\"season\"), State)) %>%\n",
    "    mutate(\n",
    "        seasonal_peak_year = seasonal_peak_year +\n",
    "          4*(seasonal_peak_year==0),\n",
    "        seasonal_trough_year = seasonal_trough_year +\n",
    "          4*(seasonal_trough_year==0),\n",
    "        seasonal_peak_year = glue(\"Q{seasonal_peak_year}\"),\n",
    "        seasonal_trough_year = glue(\"Q{seasonal_trough_year}\"),\n",
    "    ) %>%\n",
    "    GGally::ggpairs(mapping = aes(colour = State))"
   ]
  },
  {
   "cell_type": "code",
   "execution_count": null,
   "id": "german-instrumentation",
   "metadata": {},
   "outputs": [],
   "source": []
  }
 ],
 "metadata": {
  "kernelspec": {
   "display_name": "R",
   "language": "R",
   "name": "ir"
  },
  "language_info": {
   "codemirror_mode": "r",
   "file_extension": ".r",
   "mimetype": "text/x-r-source",
   "name": "R",
   "pygments_lexer": "r",
   "version": "3.6.1"
  }
 },
 "nbformat": 4,
 "nbformat_minor": 5
}
