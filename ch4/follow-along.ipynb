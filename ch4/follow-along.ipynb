{
 "cells": [
  {
   "cell_type": "code",
   "execution_count": null,
   "id": "proved-danger",
   "metadata": {},
   "outputs": [],
   "source": [
    "library(fpp3)\n",
    "library(glue)\n",
    "library(GGally)"
   ]
  },
  {
   "cell_type": "code",
   "execution_count": null,
   "id": "meaning-vaccine",
   "metadata": {},
   "outputs": [],
   "source": [
    "tourism %>%\n",
    "    features(Trips, feat_stl) %>%\n",
    "    ggplot(aes(x = trend_strength, y = seasonal_strength_year, col = Purpose)) +\n",
    "        geom_point() +\n",
    "        facet_wrap(vars(State))"
   ]
  },
  {
   "cell_type": "code",
   "execution_count": null,
   "id": "muslim-fisher",
   "metadata": {},
   "outputs": [],
   "source": [
    "tourism %>%\n",
    "    features(Trips, feat_stl)"
   ]
  },
  {
   "cell_type": "code",
   "execution_count": null,
   "id": "daily-steps",
   "metadata": {},
   "outputs": [],
   "source": [
    "tourism_features <- tourism %>%\n",
    "     features(Trips, feature_set(pkgs = \"feasts\"))"
   ]
  },
  {
   "cell_type": "code",
   "execution_count": null,
   "id": "effective-investor",
   "metadata": {},
   "outputs": [],
   "source": [
    "tourism_features %>%\n",
    "    select_at(vars(contains(\"season\"), Purpose)) %>%\n",
    "    mutate(\n",
    "        seasonal_peak_year = seasonal_peak_year + 4*(seasonal_peak_year==0),\n",
    "        seasonal_trough_year = seasonal_trough_year + 4*(seasonal_trough_year==0),\n",
    "        seasonal_peak_year = glue(\"Q{seasonal_peak_year}\"),\n",
    "        seasonal_trough_year = glue(\"Q{seasonal_trough_year}\"),\n",
    "    ) %>%\n",
    "    GGally::ggpairs(mapping = aes(colour = Purpose))"
   ]
  },
  {
   "cell_type": "code",
   "execution_count": null,
   "id": "burning-capability",
   "metadata": {},
   "outputs": [],
   "source": []
  }
 ],
 "metadata": {
  "kernelspec": {
   "display_name": "R",
   "language": "R",
   "name": "ir"
  },
  "language_info": {
   "codemirror_mode": "r",
   "file_extension": ".r",
   "mimetype": "text/x-r-source",
   "name": "R",
   "pygments_lexer": "r",
   "version": "3.6.1"
  }
 },
 "nbformat": 4,
 "nbformat_minor": 5
}
