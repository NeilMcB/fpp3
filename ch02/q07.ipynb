{
 "cells": [
  {
   "cell_type": "code",
   "execution_count": null,
   "id": "stone-virus",
   "metadata": {},
   "outputs": [],
   "source": [
    "library(fpp3)\n",
    "options(repr.plot.width=10, repr.plot.height=5)"
   ]
  },
  {
   "cell_type": "code",
   "execution_count": null,
   "id": "governing-style",
   "metadata": {},
   "outputs": [],
   "source": [
    "autoplot(aus_arrivals, Arrivals)"
   ]
  },
  {
   "cell_type": "code",
   "execution_count": null,
   "id": "swedish-principal",
   "metadata": {},
   "outputs": [],
   "source": [
    "aus_arrivals %>%\n",
    "    gg_season(Arrivals, labels = \"both\")"
   ]
  },
  {
   "cell_type": "code",
   "execution_count": null,
   "id": "dried-relation",
   "metadata": {},
   "outputs": [],
   "source": [
    "aus_arrivals %>%\n",
    "    gg_subseries(Arrivals)"
   ]
  },
  {
   "cell_type": "code",
   "execution_count": null,
   "id": "political-nebraska",
   "metadata": {},
   "outputs": [],
   "source": []
  }
 ],
 "metadata": {
  "kernelspec": {
   "display_name": "R",
   "language": "R",
   "name": "ir"
  },
  "language_info": {
   "codemirror_mode": "r",
   "file_extension": ".r",
   "mimetype": "text/x-r-source",
   "name": "R",
   "pygments_lexer": "r",
   "version": "4.0.3"
  }
 },
 "nbformat": 4,
 "nbformat_minor": 5
}
