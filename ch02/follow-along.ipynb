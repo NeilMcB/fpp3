{
 "cells": [
  {
   "cell_type": "code",
   "execution_count": null,
   "id": "attempted-croatia",
   "metadata": {},
   "outputs": [],
   "source": [
    "library('fpp3')"
   ]
  },
  {
   "cell_type": "code",
   "execution_count": null,
   "id": "painful-sleep",
   "metadata": {},
   "outputs": [],
   "source": [
    "options(repr.plot.width=10, repr.plot.height=5)"
   ]
  },
  {
   "cell_type": "code",
   "execution_count": null,
   "id": "individual-latex",
   "metadata": {},
   "outputs": [],
   "source": [
    "(y <- tsibble(\n",
    "    Year = 2015:2019,\n",
    "    Observation = c(123, 39, 78, 52, 110),\n",
    "    index = Year,\n",
    "))"
   ]
  },
  {
   "cell_type": "code",
   "execution_count": null,
   "id": "declared-original",
   "metadata": {},
   "outputs": [],
   "source": [
    "olympic_running %>% distinct(Sex)"
   ]
  },
  {
   "cell_type": "code",
   "execution_count": null,
   "id": "champion-genetics",
   "metadata": {},
   "outputs": [],
   "source": [
    "PBS %>%\n",
    "    filter(ATC2 == 'A10') %>%\n",
    "    select(Month, Concession, Type, Cost) %>%\n",
    "    summarise(TotalC = sum(Cost)) %>%\n",
    "    mutate(Cost = TotalC / 1e6) -> a10"
   ]
  },
  {
   "cell_type": "code",
   "execution_count": null,
   "id": "hybrid-richmond",
   "metadata": {},
   "outputs": [],
   "source": [
    "prison <- readr::read_csv(\"https://OTexts.com/fpp3/extrafiles/prison_population.csv\")\n",
    "\n",
    "prison <- prison %>%\n",
    "    mutate(Quarter = yearquarter(Date)) %>%\n",
    "    select(-Date) %>%\n",
    "    as_tsibble(key = c(State, Gender, Legal, Indigenous), index = Quarter)"
   ]
  },
  {
   "cell_type": "code",
   "execution_count": null,
   "id": "informed-korea",
   "metadata": {},
   "outputs": [],
   "source": [
    "melsyd_economy <- ansett %>%\n",
    "    filter(Airports == \"MEL-SYD\", Class == \"Economy\")\n",
    "\n",
    "autoplot(melsyd_economy, Passengers) +\n",
    "    labs(title = \"Ansett Economy Passengers\", subtitle = \"Melbourne to Sydney\")"
   ]
  },
  {
   "cell_type": "code",
   "execution_count": null,
   "id": "peaceful-campus",
   "metadata": {},
   "outputs": [],
   "source": [
    "autoplot(a10, Cost) +\n",
    "    labs(y = \"$Million\", title = \"Antidiabetic Drug Sales\")"
   ]
  },
  {
   "cell_type": "code",
   "execution_count": null,
   "id": "front-concrete",
   "metadata": {},
   "outputs": [],
   "source": [
    "a10 %>%\n",
    "    gg_season(Cost, labels = \"both\") %>%\n",
    "    labs(y = \"$M\", title = \"Seasonal plot: antidiabetic drug sales\")"
   ]
  },
  {
   "cell_type": "code",
   "execution_count": null,
   "id": "palestinian-turkey",
   "metadata": {},
   "outputs": [],
   "source": [
    "vic_elec %>%\n",
    "    gg_season(Demand, period = \"day\") +\n",
    "    theme(legend.position = \"none\")"
   ]
  },
  {
   "cell_type": "code",
   "execution_count": null,
   "id": "herbal-writer",
   "metadata": {},
   "outputs": [],
   "source": [
    "a10 %>%\n",
    "    gg_subseries(Cost) +\n",
    "    labs(y = \"$M\", title = \"Seasonal subseries: antidiabetic drug sales\")"
   ]
  },
  {
   "cell_type": "code",
   "execution_count": null,
   "id": "fancy-nightmare",
   "metadata": {},
   "outputs": [],
   "source": [
    "holidays <- tourism %>%\n",
    "    filter(Purpose == \"Holiday\") %>%\n",
    "    group_by(State) %>%\n",
    "    summarise(Trips = sum(Trips))"
   ]
  },
  {
   "cell_type": "code",
   "execution_count": null,
   "id": "hollywood-waterproof",
   "metadata": {},
   "outputs": [],
   "source": [
    "autoplot(holidays, Trips) +\n",
    "    labs(y = \"thousands of trips\", title = \"Australian domestic holiday nights\")"
   ]
  },
  {
   "cell_type": "code",
   "execution_count": null,
   "id": "encouraging-lloyd",
   "metadata": {},
   "outputs": [],
   "source": [
    "gg_season(holidays, Trips) +\n",
    "    labs(y = \"thousands of trips\", title = \"Australian domestic holiday nights\")"
   ]
  },
  {
   "cell_type": "code",
   "execution_count": null,
   "id": "civil-effects",
   "metadata": {},
   "outputs": [],
   "source": [
    "holidays %>%\n",
    "    gg_subseries(Trips) +\n",
    "    labs(y = \"Thousands of trips\", title = \"Australian domestic holiday nights\")"
   ]
  },
  {
   "cell_type": "code",
   "execution_count": null,
   "id": "rough-jacket",
   "metadata": {},
   "outputs": [],
   "source": [
    "vic_elec %>%\n",
    "    filter(year(Time) == 2014) %>%\n",
    "    autoplot(Demand) +\n",
    "    labs(y = \"Demand (GW)\", title = \"Half-hour electricity demand in Victoria\")"
   ]
  },
  {
   "cell_type": "code",
   "execution_count": null,
   "id": "material-warehouse",
   "metadata": {},
   "outputs": [],
   "source": [
    "vic_elec %>%\n",
    "    filter(year(Time) == 2014) %>%\n",
    "    autoplot(Temperature) +\n",
    "    labs(y = \"Temperatur (C)\", title = \"Half-hour temperature in Victoria\")"
   ]
  },
  {
   "cell_type": "code",
   "execution_count": null,
   "id": "related-blanket",
   "metadata": {},
   "outputs": [],
   "source": [
    "vic_elec %>%\n",
    "    filter(year(Time) == 2014) %>%\n",
    "    ggplot(aes(Temperature, Demand)) +\n",
    "    geom_point() +\n",
    "    labs(x = \"Temperature [C]\", y = \"Demand [GW]\")"
   ]
  },
  {
   "cell_type": "code",
   "execution_count": null,
   "id": "sustainable-theta",
   "metadata": {},
   "outputs": [],
   "source": [
    "recent_production <- aus_production %>%\n",
    "    filter(year(Quarter) >= 2000)\n",
    "\n",
    "recent_production %>% gg_lag(Beer, geom = \"point\")"
   ]
  },
  {
   "cell_type": "code",
   "execution_count": null,
   "id": "viral-developer",
   "metadata": {},
   "outputs": [],
   "source": [
    "recent_production %>%\n",
    "    ACF(Beer) %>%\n",
    "    autoplot()"
   ]
  },
  {
   "cell_type": "code",
   "execution_count": null,
   "id": "prospective-spencer",
   "metadata": {},
   "outputs": [],
   "source": []
  }
 ],
 "metadata": {
  "kernelspec": {
   "display_name": "R",
   "language": "R",
   "name": "ir"
  },
  "language_info": {
   "codemirror_mode": "r",
   "file_extension": ".r",
   "mimetype": "text/x-r-source",
   "name": "R",
   "pygments_lexer": "r",
   "version": "4.0.3"
  }
 },
 "nbformat": 4,
 "nbformat_minor": 5
}
