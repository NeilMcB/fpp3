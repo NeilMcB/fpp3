{
 "cells": [
  {
   "cell_type": "code",
   "execution_count": null,
   "id": "signal-august",
   "metadata": {},
   "outputs": [],
   "source": [
    "library(fpp3)"
   ]
  },
  {
   "cell_type": "code",
   "execution_count": null,
   "id": "dependent-anime",
   "metadata": {},
   "outputs": [],
   "source": [
    "gafa_stock %>%\n",
    "    filter(Symbol == \"AAPL\") %>%\n",
    "    autoplot(Open)"
   ]
  },
  {
   "cell_type": "code",
   "execution_count": null,
   "id": "caroline-nashville",
   "metadata": {},
   "outputs": [],
   "source": [
    "pelt %>%\n",
    "    autoplot(Hare)"
   ]
  },
  {
   "cell_type": "code",
   "execution_count": null,
   "id": "spoken-witness",
   "metadata": {},
   "outputs": [],
   "source": []
  }
 ],
 "metadata": {
  "kernelspec": {
   "display_name": "R",
   "language": "R",
   "name": "ir"
  },
  "language_info": {
   "codemirror_mode": "r",
   "file_extension": ".r",
   "mimetype": "text/x-r-source",
   "name": "R",
   "pygments_lexer": "r",
   "version": "4.0.3"
  }
 },
 "nbformat": 4,
 "nbformat_minor": 5
}
