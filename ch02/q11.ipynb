{
 "cells": [
  {
   "cell_type": "code",
   "execution_count": null,
   "id": "emerging-november",
   "metadata": {},
   "outputs": [],
   "source": [
    "library(fpp3)\n",
    "options(repr.plot.width=10, repr.plot.height=5)"
   ]
  },
  {
   "cell_type": "code",
   "execution_count": null,
   "id": "acoustic-traveler",
   "metadata": {},
   "outputs": [],
   "source": [
    "year_start <- 1\n",
    "year_end <- 9999\n",
    "\n",
    "victorian_pigs <- aus_livestock %>%\n",
    "    filter(Animal == 'Pigs', State == 'Victoria') %>%\n",
    "    filter(year(Month) >= year_start, year(Month) <= year_end)"
   ]
  },
  {
   "cell_type": "code",
   "execution_count": null,
   "id": "exclusive-luther",
   "metadata": {},
   "outputs": [],
   "source": [
    "autoplot(victorian_pigs, Count)"
   ]
  },
  {
   "cell_type": "code",
   "execution_count": null,
   "id": "paperback-clone",
   "metadata": {},
   "outputs": [],
   "source": [
    "ACF(victorian_pigs, Count) %>%\n",
    "    autoplot()"
   ]
  },
  {
   "cell_type": "code",
   "execution_count": null,
   "id": "diverse-musician",
   "metadata": {},
   "outputs": [],
   "source": []
  }
 ],
 "metadata": {
  "kernelspec": {
   "display_name": "R",
   "language": "R",
   "name": "ir"
  },
  "language_info": {
   "codemirror_mode": "r",
   "file_extension": ".r",
   "mimetype": "text/x-r-source",
   "name": "R",
   "pygments_lexer": "r",
   "version": "4.0.3"
  }
 },
 "nbformat": 4,
 "nbformat_minor": 5
}
