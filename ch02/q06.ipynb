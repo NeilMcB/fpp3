{
 "cells": [
  {
   "cell_type": "code",
   "execution_count": null,
   "id": "extra-nevada",
   "metadata": {},
   "outputs": [],
   "source": [
    "library(fpp3)\n",
    "options(repr.plot.width=10, repr.plot.height=5)"
   ]
  },
  {
   "cell_type": "code",
   "execution_count": null,
   "id": "determined-lighting",
   "metadata": {},
   "outputs": [],
   "source": [
    "autoplot(aus_production, Bricks)"
   ]
  },
  {
   "cell_type": "code",
   "execution_count": null,
   "id": "fancy-lexington",
   "metadata": {},
   "outputs": [],
   "source": [
    "autoplot(pelt, Lynx)"
   ]
  },
  {
   "cell_type": "code",
   "execution_count": null,
   "id": "subsequent-preview",
   "metadata": {},
   "outputs": [],
   "source": [
    "autoplot(gafa_stock, Close)"
   ]
  },
  {
   "cell_type": "code",
   "execution_count": null,
   "id": "proved-analyst",
   "metadata": {},
   "outputs": [],
   "source": [
    "autoplot(vic_elec, Demand) +\n",
    "    labs(x = \"Date\", y = \"Demand [GW]\", title = \"30 Minute Electricity Demand: Victoria\")"
   ]
  },
  {
   "cell_type": "code",
   "execution_count": null,
   "id": "enclosed-transmission",
   "metadata": {},
   "outputs": [],
   "source": []
  }
 ],
 "metadata": {
  "kernelspec": {
   "display_name": "R",
   "language": "R",
   "name": "ir"
  },
  "language_info": {
   "codemirror_mode": "r",
   "file_extension": ".r",
   "mimetype": "text/x-r-source",
   "name": "R",
   "pygments_lexer": "r",
   "version": "4.0.3"
  }
 },
 "nbformat": 4,
 "nbformat_minor": 5
}
