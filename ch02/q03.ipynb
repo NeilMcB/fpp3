{
 "cells": [
  {
   "cell_type": "code",
   "execution_count": null,
   "id": "strong-congress",
   "metadata": {},
   "outputs": [],
   "source": [
    "library(fpp3)"
   ]
  },
  {
   "cell_type": "code",
   "execution_count": null,
   "id": "educated-premium",
   "metadata": {},
   "outputs": [],
   "source": [
    "tute1 <- readr::read_csv(\"https://otexts.com/fpp3/extrafiles/tute1.csv\")"
   ]
  },
  {
   "cell_type": "code",
   "execution_count": null,
   "id": "celtic-volume",
   "metadata": {},
   "outputs": [],
   "source": [
    "mytimeseries <- tute1 %>%\n",
    "    mutate(Quarter = yearmonth(Quarter)) %>%\n",
    "    as_tsibble(index = Quarter)"
   ]
  },
  {
   "cell_type": "code",
   "execution_count": null,
   "id": "latin-taste",
   "metadata": {},
   "outputs": [],
   "source": [
    "mytimeseries %>%\n",
    "    pivot_longer(-Quarter) %>%\n",
    "    ggplot(aes(Quarter, value, color = name)) +\n",
    "    geom_line() +\n",
    "    facet_grid(name ~ ., scales = \"free_y\")"
   ]
  },
  {
   "cell_type": "code",
   "execution_count": null,
   "id": "outdoor-letters",
   "metadata": {},
   "outputs": [],
   "source": []
  }
 ],
 "metadata": {
  "kernelspec": {
   "display_name": "R",
   "language": "R",
   "name": "ir"
  },
  "language_info": {
   "codemirror_mode": "r",
   "file_extension": ".r",
   "mimetype": "text/x-r-source",
   "name": "R",
   "pygments_lexer": "r",
   "version": "4.0.3"
  }
 },
 "nbformat": 4,
 "nbformat_minor": 5
}
