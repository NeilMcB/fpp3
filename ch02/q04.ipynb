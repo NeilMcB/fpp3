{
 "cells": [
  {
   "cell_type": "code",
   "execution_count": null,
   "id": "previous-centre",
   "metadata": {},
   "outputs": [],
   "source": [
    "library(fpp3)\n",
    "library(USgas)"
   ]
  },
  {
   "cell_type": "code",
   "execution_count": null,
   "id": "comfortable-indonesian",
   "metadata": {},
   "outputs": [],
   "source": [
    "us_total <- us_total %>%\n",
    "    as_tsibble(index = year, key = state)"
   ]
  },
  {
   "cell_type": "code",
   "execution_count": null,
   "id": "suited-handling",
   "metadata": {},
   "outputs": [],
   "source": [
    "new_england_states <- c(\n",
    "    \"Maine\", \"Vermont\", \"New Hampshire\", \"Massachusetts\", \"Connecticut\", \"Rhode Island\"\n",
    ")\n",
    "\n",
    "us_total %>%\n",
    "    filter(state %in% new_england_states) %>%\n",
    "    ggplot(aes(year, y, color = state)) +\n",
    "    geom_line() +\n",
    "    facet_grid(state ~ ., scales = \"free_y\")"
   ]
  },
  {
   "cell_type": "code",
   "execution_count": null,
   "id": "mature-bhutan",
   "metadata": {},
   "outputs": [],
   "source": []
  }
 ],
 "metadata": {
  "kernelspec": {
   "display_name": "R",
   "language": "R",
   "name": "ir"
  },
  "language_info": {
   "codemirror_mode": "r",
   "file_extension": ".r",
   "mimetype": "text/x-r-source",
   "name": "R",
   "pygments_lexer": "r",
   "version": "4.0.3"
  }
 },
 "nbformat": 4,
 "nbformat_minor": 5
}
