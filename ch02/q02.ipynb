{
 "cells": [
  {
   "cell_type": "code",
   "execution_count": null,
   "id": "electoral-flesh",
   "metadata": {},
   "outputs": [],
   "source": [
    "library(fpp3)"
   ]
  },
  {
   "cell_type": "code",
   "execution_count": null,
   "id": "treated-binding",
   "metadata": {},
   "outputs": [],
   "source": [
    "gafa_stock %>%\n",
    "    group_by(Symbol) %>%\n",
    "    filter(rank(Close) == max(rank(Close)))"
   ]
  },
  {
   "cell_type": "code",
   "execution_count": null,
   "id": "fifth-allergy",
   "metadata": {},
   "outputs": [],
   "source": []
  }
 ],
 "metadata": {
  "kernelspec": {
   "display_name": "R",
   "language": "R",
   "name": "ir"
  },
  "language_info": {
   "codemirror_mode": "r",
   "file_extension": ".r",
   "mimetype": "text/x-r-source",
   "name": "R",
   "pygments_lexer": "r",
   "version": "4.0.3"
  }
 },
 "nbformat": 4,
 "nbformat_minor": 5
}
