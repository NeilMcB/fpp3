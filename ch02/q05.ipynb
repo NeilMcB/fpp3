{
 "cells": [
  {
   "cell_type": "code",
   "execution_count": null,
   "id": "approved-despite",
   "metadata": {},
   "outputs": [],
   "source": [
    "library(fpp3)"
   ]
  },
  {
   "cell_type": "code",
   "execution_count": null,
   "id": "incorrect-ridge",
   "metadata": {},
   "outputs": [],
   "source": [
    "tourism <- readxl::read_excel(\"../data/tourism.xlsx\")"
   ]
  },
  {
   "cell_type": "code",
   "execution_count": null,
   "id": "breeding-trademark",
   "metadata": {},
   "outputs": [],
   "source": [
    "tourism <- tourism %>%\n",
    "    mutate(Quarter = yearmonth(Quarter)) %>%\n",
    "    as_tsibble(index = Quarter, key = c(Region, State, Purpose))"
   ]
  },
  {
   "cell_type": "code",
   "execution_count": null,
   "id": "prompt-whale",
   "metadata": {},
   "outputs": [],
   "source": [
    "tourism %>%\n",
    "    as_tibble %>%\n",
    "    group_by(State, Region) %>%\n",
    "    summarise(AvgTrips = mean(Trips), .groups = \"drop\") %>%\n",
    "    top_n(1, AvgTrips)"
   ]
  },
  {
   "cell_type": "code",
   "execution_count": null,
   "id": "affected-marble",
   "metadata": {},
   "outputs": [],
   "source": [
    "tourism %>%\n",
    "    group_by(State) %>%\n",
    "    summarise(Trips = sum(Trips)) "
   ]
  },
  {
   "cell_type": "code",
   "execution_count": null,
   "id": "sustainable-settle",
   "metadata": {},
   "outputs": [],
   "source": []
  }
 ],
 "metadata": {
  "kernelspec": {
   "display_name": "R",
   "language": "R",
   "name": "ir"
  },
  "language_info": {
   "codemirror_mode": "r",
   "file_extension": ".r",
   "mimetype": "text/x-r-source",
   "name": "R",
   "pygments_lexer": "r",
   "version": "4.0.3"
  }
 },
 "nbformat": 4,
 "nbformat_minor": 5
}
