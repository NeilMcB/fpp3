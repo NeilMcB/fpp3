{
 "cells": [
  {
   "cell_type": "code",
   "execution_count": null,
   "id": "broken-marshall",
   "metadata": {},
   "outputs": [],
   "source": [
    "library(fpp3)\n",
    "options(repr.plot.width=10, repr.plot.height=5)"
   ]
  },
  {
   "cell_type": "code",
   "execution_count": null,
   "id": "accessible-alaska",
   "metadata": {},
   "outputs": [],
   "source": [
    "dgoog <- gafa_stock %>%\n",
    "    filter(Symbol == \"GOOG\", year(Date) >= 2018) %>%\n",
    "    mutate(trading_day = row_number()) %>%\n",
    "    update_tsibble(index = trading_day, regular = TRUE) %>%\n",
    "    mutate(diff = difference(Close))"
   ]
  },
  {
   "cell_type": "code",
   "execution_count": null,
   "id": "powerful-speech",
   "metadata": {},
   "outputs": [],
   "source": [
    "autoplot(dgoog, diff)"
   ]
  },
  {
   "cell_type": "code",
   "execution_count": null,
   "id": "english-atlanta",
   "metadata": {},
   "outputs": [],
   "source": [
    "ACF(dgoog, diff) %>%\n",
    "    autoplot()"
   ]
  },
  {
   "cell_type": "code",
   "execution_count": null,
   "id": "polar-aaron",
   "metadata": {},
   "outputs": [],
   "source": []
  }
 ],
 "metadata": {
  "kernelspec": {
   "display_name": "R",
   "language": "R",
   "name": "ir"
  },
  "language_info": {
   "codemirror_mode": "r",
   "file_extension": ".r",
   "mimetype": "text/x-r-source",
   "name": "R",
   "pygments_lexer": "r",
   "version": "4.0.3"
  }
 },
 "nbformat": 4,
 "nbformat_minor": 5
}
