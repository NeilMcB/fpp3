{
 "cells": [
  {
   "cell_type": "code",
   "execution_count": null,
   "id": "controversial-pierce",
   "metadata": {},
   "outputs": [],
   "source": [
    "library(fpp3)"
   ]
  },
  {
   "cell_type": "code",
   "execution_count": null,
   "id": "close-brother",
   "metadata": {},
   "outputs": [],
   "source": [
    "nsw_pigs <- aus_livestock %>% \n",
    "    filter(Animal == \"Pigs\", State == \"New South Wales\")"
   ]
  },
  {
   "cell_type": "code",
   "execution_count": null,
   "id": "modified-commonwealth",
   "metadata": {},
   "outputs": [],
   "source": [
    "autoplot(nsw_pigs, Count)"
   ]
  },
  {
   "cell_type": "code",
   "execution_count": null,
   "id": "disturbed-metallic",
   "metadata": {},
   "outputs": [],
   "source": [
    "gg_season(nsw_pigs)"
   ]
  },
  {
   "cell_type": "code",
   "execution_count": null,
   "id": "fatty-tablet",
   "metadata": {},
   "outputs": [],
   "source": [
    "gg_subseries(nsw_pigs)"
   ]
  },
  {
   "cell_type": "code",
   "execution_count": null,
   "id": "imperial-affair",
   "metadata": {},
   "outputs": [],
   "source": [
    "nsw_pigs_train <- nsw_pigs %>%\n",
    "    slice(0:486)\n",
    "\n",
    "fit <- nsw_pigs_train %>%\n",
    "    model(\n",
    "        'mean' = MEAN(Count,),\n",
    "        'naive' = NAIVE(Count),\n",
    "        'drift' = RW(Count ~ drift()),\n",
    "        'snaive' = SNAIVE(Count)\n",
    "    )\n",
    "\n",
    "fc <- fit %>%\n",
    "    forecast(new_data = anti_join(nsw_pigs, nsw_pigs_train))"
   ]
  },
  {
   "cell_type": "code",
   "execution_count": null,
   "id": "aerial-sheffield",
   "metadata": {},
   "outputs": [],
   "source": [
    "fc %>% accuracy(nsw_pigs)"
   ]
  },
  {
   "cell_type": "code",
   "execution_count": null,
   "id": "floral-western",
   "metadata": {},
   "outputs": [],
   "source": [
    "fit %>% select(drift) %>% gg_tsresiduals()"
   ]
  },
  {
   "cell_type": "code",
   "execution_count": null,
   "id": "taken-jackson",
   "metadata": {},
   "outputs": [],
   "source": []
  }
 ],
 "metadata": {
  "kernelspec": {
   "display_name": "R",
   "language": "R",
   "name": "ir"
  },
  "language_info": {
   "codemirror_mode": "r",
   "file_extension": ".r",
   "mimetype": "text/x-r-source",
   "name": "R",
   "pygments_lexer": "r",
   "version": "3.6.1"
  }
 },
 "nbformat": 4,
 "nbformat_minor": 5
}
