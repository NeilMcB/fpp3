{
 "cells": [
  {
   "cell_type": "code",
   "execution_count": null,
   "id": "gothic-vertical",
   "metadata": {},
   "outputs": [],
   "source": [
    "library(fpp3)"
   ]
  },
  {
   "cell_type": "code",
   "execution_count": null,
   "id": "seventh-button",
   "metadata": {},
   "outputs": [],
   "source": [
    "hh_budget_aus <- hh_budget %>%\n",
    "    filter(Country == \"Australia\") %>%\n",
    "    select(-Country)"
   ]
  },
  {
   "cell_type": "code",
   "execution_count": null,
   "id": "golden-apollo",
   "metadata": {},
   "outputs": [],
   "source": [
    "hh_budget_aus_train <- hh_budget_aus %>%\n",
    "    slice(-(n()-4:0))\n",
    "\n",
    "fit <- hh_budget_aus_train %>%\n",
    "    model(\n",
    "        \"mean\" = MEAN(Wealth),\n",
    "        \"naive\" = NAIVE(Wealth),\n",
    "        \"drift\" = RW(Wealth ~ drift())\n",
    "    )\n",
    "\n",
    "fc <- fit %>%\n",
    "    forecast(new_data = anti_join(hh_budget_aus, hh_budget_aus_train))"
   ]
  },
  {
   "cell_type": "code",
   "execution_count": null,
   "id": "premier-forty",
   "metadata": {},
   "outputs": [],
   "source": [
    "fc %>% accuracy(hh_budget_aus)"
   ]
  },
  {
   "cell_type": "code",
   "execution_count": null,
   "id": "quantitative-jacket",
   "metadata": {},
   "outputs": [],
   "source": [
    "fit %>% select(mean) %>% gg_tsresiduals()"
   ]
  },
  {
   "cell_type": "code",
   "execution_count": null,
   "id": "harmful-sociology",
   "metadata": {},
   "outputs": [],
   "source": []
  }
 ],
 "metadata": {
  "kernelspec": {
   "display_name": "R",
   "language": "R",
   "name": "ir"
  },
  "language_info": {
   "codemirror_mode": "r",
   "file_extension": ".r",
   "mimetype": "text/x-r-source",
   "name": "R",
   "pygments_lexer": "r",
   "version": "3.6.1"
  }
 },
 "nbformat": 4,
 "nbformat_minor": 5
}
