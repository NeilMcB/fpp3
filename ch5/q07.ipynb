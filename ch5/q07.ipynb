{
 "cells": [
  {
   "cell_type": "code",
   "execution_count": null,
   "id": "acting-safety",
   "metadata": {},
   "outputs": [],
   "source": [
    "library(fpp3)"
   ]
  },
  {
   "cell_type": "code",
   "execution_count": null,
   "id": "romantic-revision",
   "metadata": {},
   "outputs": [],
   "source": [
    "set.seed(12345678)\n",
    "myseries <- aus_retail %>%\n",
    "  filter(`Series ID` == sample(aus_retail$`Series ID`,1))"
   ]
  },
  {
   "cell_type": "code",
   "execution_count": null,
   "id": "green-inspector",
   "metadata": {},
   "outputs": [],
   "source": [
    "myseries_train <- myseries %>%\n",
    "    filter(year(Month) < 2011)"
   ]
  },
  {
   "cell_type": "code",
   "execution_count": null,
   "id": "sudden-bread",
   "metadata": {},
   "outputs": [],
   "source": [
    "autoplot(myseries, Turnover) +\n",
    "    autolayer(myseries_train, Turnover, color = \"red\")"
   ]
  },
  {
   "cell_type": "code",
   "execution_count": null,
   "id": "obvious-connecticut",
   "metadata": {},
   "outputs": [],
   "source": [
    "fit <- myseries_train %>%\n",
    "    model(SNAIVE(Turnover))\n",
    "\n",
    "fit %>% gg_tsresiduals()"
   ]
  },
  {
   "cell_type": "code",
   "execution_count": null,
   "id": "three-compression",
   "metadata": {},
   "outputs": [],
   "source": [
    "fc <- fit %>%\n",
    "    forecast(new_data = anti_join(myseries, myseries_train))\n",
    "fc %>% autoplot(myseries)"
   ]
  },
  {
   "cell_type": "code",
   "execution_count": null,
   "id": "hired-robin",
   "metadata": {},
   "outputs": [],
   "source": [
    "fit %>% accuracy()"
   ]
  },
  {
   "cell_type": "code",
   "execution_count": null,
   "id": "inappropriate-empire",
   "metadata": {},
   "outputs": [],
   "source": [
    "fc %>% accuracy(myseries)"
   ]
  },
  {
   "cell_type": "code",
   "execution_count": null,
   "id": "assisted-subscription",
   "metadata": {},
   "outputs": [],
   "source": []
  }
 ],
 "metadata": {
  "kernelspec": {
   "display_name": "R",
   "language": "R",
   "name": "ir"
  },
  "language_info": {
   "codemirror_mode": "r",
   "file_extension": ".r",
   "mimetype": "text/x-r-source",
   "name": "R",
   "pygments_lexer": "r",
   "version": "3.6.1"
  }
 },
 "nbformat": 4,
 "nbformat_minor": 5
}
