{
 "cells": [
  {
   "cell_type": "code",
   "execution_count": null,
   "id": "burning-substitute",
   "metadata": {},
   "outputs": [],
   "source": [
    "library(fpp3)"
   ]
  },
  {
   "cell_type": "code",
   "execution_count": null,
   "id": "adopted-liberia",
   "metadata": {},
   "outputs": [],
   "source": [
    "aus_tw <- aus_retail %>%\n",
    "    filter(Industry == \"Takeaway food services\") %>%\n",
    "    summarise(Turnover = sum(Turnover))\n",
    "\n",
    "aus_tw_train <- aus_tw %>%\n",
    "    filter(year(Month) <= 2015)\n",
    "\n",
    "fit <- aus_tw_train %>%\n",
    "    model(\n",
    "        \"mean\" = MEAN(Turnover),\n",
    "        \"naive\" = NAIVE(Turnover),\n",
    "        \"snaive\" = SNAIVE(Turnover),\n",
    "        \"drift\" = RW(Turnover ~ drift())\n",
    "    )\n",
    "\n",
    "fc <- fit %>%\n",
    "    forecast(new_data = anti_join(aus_tw, aus_tw_train))"
   ]
  },
  {
   "cell_type": "code",
   "execution_count": null,
   "id": "immune-guatemala",
   "metadata": {},
   "outputs": [],
   "source": [
    "fc %>% accuracy(aus_tw)"
   ]
  },
  {
   "cell_type": "code",
   "execution_count": null,
   "id": "loaded-objective",
   "metadata": {},
   "outputs": [],
   "source": [
    "fit %>% select(naive) %>% gg_tsresiduals()"
   ]
  },
  {
   "cell_type": "code",
   "execution_count": null,
   "id": "adjusted-trunk",
   "metadata": {},
   "outputs": [],
   "source": []
  }
 ],
 "metadata": {
  "kernelspec": {
   "display_name": "R",
   "language": "R",
   "name": "ir"
  },
  "language_info": {
   "codemirror_mode": "r",
   "file_extension": ".r",
   "mimetype": "text/x-r-source",
   "name": "R",
   "pygments_lexer": "r",
   "version": "3.6.1"
  }
 },
 "nbformat": 4,
 "nbformat_minor": 5
}
