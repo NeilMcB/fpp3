{
 "cells": [
  {
   "cell_type": "code",
   "execution_count": null,
   "id": "soviet-frame",
   "metadata": {},
   "outputs": [],
   "source": [
    "library(fpp3)"
   ]
  },
  {
   "cell_type": "code",
   "execution_count": null,
   "id": "tropical-dodge",
   "metadata": {},
   "outputs": [],
   "source": [
    "gc_tourism <- tourism %>%\n",
    "    filter(Region == \"Gold Coast\") %>%\n",
    "    summarise(Trips = sum(Trips))"
   ]
  },
  {
   "cell_type": "code",
   "execution_count": null,
   "id": "owned-mentor",
   "metadata": {},
   "outputs": [],
   "source": [
    "gc_train_1 <- gc_tourism %>% slice(1:(n()-4))\n",
    "gc_train_2 <- gc_tourism %>% slice(1:(n()-8))\n",
    "gc_train_3 <- gc_tourism %>% slice(1:(n()-12))"
   ]
  },
  {
   "cell_type": "code",
   "execution_count": null,
   "id": "assumed-validity",
   "metadata": {},
   "outputs": [],
   "source": [
    "gc_fc_1 <- gc_train_1 %>%\n",
    "    model(SNAIVE(Trips)) %>%\n",
    "    forecast(h = \"1 year\")\n",
    "\n",
    "gc_fc_2 <- gc_train_2 %>%\n",
    "    model(SNAIVE(Trips)) %>%\n",
    "    forecast(h = \"1 year\")\n",
    "\n",
    "gc_fc_3 <- gc_train_3 %>%\n",
    "    model(SNAIVE(Trips)) %>%\n",
    "    forecast(h = \"1 year\")"
   ]
  },
  {
   "cell_type": "code",
   "execution_count": null,
   "id": "another-toronto",
   "metadata": {},
   "outputs": [],
   "source": [
    "gc_fc_1 %>% accuracy(gc_tourism)"
   ]
  },
  {
   "cell_type": "code",
   "execution_count": null,
   "id": "greatest-assessment",
   "metadata": {},
   "outputs": [],
   "source": [
    "gc_fc_2 %>% accuracy(gc_tourism)"
   ]
  },
  {
   "cell_type": "code",
   "execution_count": null,
   "id": "downtown-charlotte",
   "metadata": {},
   "outputs": [],
   "source": [
    "gc_fc_3 %>% accuracy(gc_tourism)"
   ]
  },
  {
   "cell_type": "code",
   "execution_count": null,
   "id": "tutorial-salad",
   "metadata": {},
   "outputs": [],
   "source": []
  }
 ],
 "metadata": {
  "kernelspec": {
   "display_name": "R",
   "language": "R",
   "name": "ir"
  },
  "language_info": {
   "codemirror_mode": "r",
   "file_extension": ".r",
   "mimetype": "text/x-r-source",
   "name": "R",
   "pygments_lexer": "r",
   "version": "3.6.1"
  }
 },
 "nbformat": 4,
 "nbformat_minor": 5
}
