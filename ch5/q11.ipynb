{
 "cells": [
  {
   "cell_type": "code",
   "execution_count": null,
   "id": "military-framing",
   "metadata": {},
   "outputs": [],
   "source": [
    "library(fpp3)"
   ]
  },
  {
   "cell_type": "code",
   "execution_count": null,
   "id": "wrapped-update",
   "metadata": {},
   "outputs": [],
   "source": [
    "bricks <- aus_production %>%\n",
    "    filter_index(\"Q1 1970\" ~ \"Q4 2004\") %>%\n",
    "    select(Bricks)\n",
    "\n",
    "bricks %>%\n",
    "    autoplot(Bricks)"
   ]
  },
  {
   "cell_type": "code",
   "execution_count": null,
   "id": "considered-perth",
   "metadata": {},
   "outputs": [],
   "source": [
    "stl_comps <- bricks %>%\n",
    "    model(STL(Bricks, robust = TRUE)) %>%\n",
    "    components()"
   ]
  },
  {
   "cell_type": "code",
   "execution_count": null,
   "id": "reliable-novelty",
   "metadata": {},
   "outputs": [],
   "source": [
    "stl_comps %>% autoplot()"
   ]
  },
  {
   "cell_type": "code",
   "execution_count": null,
   "id": "digital-bidding",
   "metadata": {},
   "outputs": [],
   "source": [
    "stl_comps %>% autoplot(season_adjust)"
   ]
  },
  {
   "cell_type": "code",
   "execution_count": null,
   "id": "international-characterization",
   "metadata": {},
   "outputs": [],
   "source": [
    "fit <- stl_comps %>%\n",
    "    select(season_adjust) %>%\n",
    "    mutate(Bricks = season_adjust) %>%\n",
    "    model(NAIVE(Bricks))\n",
    "\n",
    "fit %>%\n",
    "    forecast(h = \"6 years\") %>%\n",
    "    autoplot(bricks)"
   ]
  },
  {
   "cell_type": "code",
   "execution_count": null,
   "id": "right-cycle",
   "metadata": {},
   "outputs": [],
   "source": [
    "bricks_train <- bricks %>%\n",
    "    filter(year(Quarter) <= 2002)\n",
    "\n",
    "fit_dcmp <- bricks_train %>%\n",
    "    model(\n",
    "        stlf = decomposition_model(STL(Bricks, robust = TRUE), NAIVE(season_adjust)),\n",
    "        snaive = SNAIVE(Bricks)\n",
    ")\n",
    "\n",
    "fit_dcmp %>%\n",
    "    forecast() %>%\n",
    "    autoplot(bricks_train)"
   ]
  },
  {
   "cell_type": "code",
   "execution_count": null,
   "id": "nominated-possession",
   "metadata": {},
   "outputs": [],
   "source": [
    "fc <- fit_dcmp %>%\n",
    "    forecast(new_data = anti_join(bricks, bricks_train))\n",
    "\n",
    "fc %>% accuracy(bricks)"
   ]
  },
  {
   "cell_type": "code",
   "execution_count": null,
   "id": "early-advance",
   "metadata": {},
   "outputs": [],
   "source": []
  }
 ],
 "metadata": {
  "kernelspec": {
   "display_name": "R",
   "language": "R",
   "name": "ir"
  },
  "language_info": {
   "codemirror_mode": "r",
   "file_extension": ".r",
   "mimetype": "text/x-r-source",
   "name": "R",
   "pygments_lexer": "r",
   "version": "3.6.1"
  }
 },
 "nbformat": 4,
 "nbformat_minor": 5
}
