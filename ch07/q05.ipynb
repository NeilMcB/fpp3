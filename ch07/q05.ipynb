{
 "cells": [
  {
   "cell_type": "code",
   "execution_count": null,
   "id": "first-attendance",
   "metadata": {},
   "outputs": [],
   "source": [
    "library(fpp3)"
   ]
  },
  {
   "cell_type": "code",
   "execution_count": null,
   "id": "integral-arena",
   "metadata": {},
   "outputs": [],
   "source": [
    "recent_gas <- us_gasoline %>%\n",
    "    filter(year(Week) <= 2004)\n",
    "\n",
    "recent_gas %>% autoplot(Barrels)"
   ]
  },
  {
   "cell_type": "code",
   "execution_count": null,
   "id": "matched-session",
   "metadata": {},
   "outputs": [],
   "source": [
    "fits <- recent_gas %>%\n",
    "    model(\n",
    "        k2 = TSLM(Barrels ~ trend() + fourier(K = 2)),\n",
    "        k3 = TSLM(Barrels ~ trend() + fourier(K = 3)),\n",
    "        k4 = TSLM(Barrels ~ trend() + fourier(K = 4)),\n",
    "        k8 = TSLM(Barrels ~ trend() + fourier(K = 8)),\n",
    "        k16 = TSLM(Barrels ~ trend() + fourier(K = 16)),\n",
    "    )\n",
    "\n",
    "glance(fits)"
   ]
  },
  {
   "cell_type": "code",
   "execution_count": null,
   "id": "functioning-monitor",
   "metadata": {},
   "outputs": [],
   "source": [
    "fit <- recent_gas %>%\n",
    "    model(TSLM(Barrels ~ trend() + fourier(K = 2)))\n",
    "\n",
    "augment(fit) %>%\n",
    "    autoplot(.fitted)"
   ]
  },
  {
   "cell_type": "code",
   "execution_count": null,
   "id": "conscious-conservative",
   "metadata": {},
   "outputs": [],
   "source": [
    "fit %>% gg_tsresiduals()"
   ]
  },
  {
   "cell_type": "code",
   "execution_count": null,
   "id": "automated-basics",
   "metadata": {},
   "outputs": [],
   "source": [
    "report(fit)"
   ]
  },
  {
   "cell_type": "code",
   "execution_count": null,
   "id": "controversial-montana",
   "metadata": {},
   "outputs": [],
   "source": [
    "augment(fit) %>% features(.innov, ljung_box, lag=10, dof=6)"
   ]
  },
  {
   "cell_type": "code",
   "execution_count": null,
   "id": "sapphire-correction",
   "metadata": {},
   "outputs": [],
   "source": [
    "global_economy %>%\n",
    "    filter(Country == \"Afghanistan\") %>%\n",
    "    autoplot(Population)"
   ]
  },
  {
   "cell_type": "code",
   "execution_count": null,
   "id": "quantitative-holocaust",
   "metadata": {},
   "outputs": [],
   "source": []
  }
 ],
 "metadata": {
  "kernelspec": {
   "display_name": "R",
   "language": "R",
   "name": "ir"
  },
  "language_info": {
   "codemirror_mode": "r",
   "file_extension": ".r",
   "mimetype": "text/x-r-source",
   "name": "R",
   "pygments_lexer": "r",
   "version": "3.6.1"
  }
 },
 "nbformat": 4,
 "nbformat_minor": 5
}
