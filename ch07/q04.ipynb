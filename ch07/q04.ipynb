{
 "cells": [
  {
   "cell_type": "code",
   "execution_count": null,
   "id": "rolled-holmes",
   "metadata": {},
   "outputs": [],
   "source": [
    "library(fpp3)"
   ]
  },
  {
   "cell_type": "code",
   "execution_count": null,
   "id": "pointed-blair",
   "metadata": {},
   "outputs": [],
   "source": [
    "souvenirs %>%\n",
    "    autoplot()"
   ]
  },
  {
   "cell_type": "code",
   "execution_count": null,
   "id": "amber-immune",
   "metadata": {},
   "outputs": [],
   "source": [
    "fit <- souvenirs %>%\n",
    "    model(TSLM(log(Sales) ~ trend() + season()))\n",
    "\n",
    "report(fit)"
   ]
  },
  {
   "cell_type": "code",
   "execution_count": null,
   "id": "delayed-supervision",
   "metadata": {},
   "outputs": [],
   "source": [
    "fit %>% gg_tsresiduals()"
   ]
  },
  {
   "cell_type": "code",
   "execution_count": null,
   "id": "operational-leonard",
   "metadata": {},
   "outputs": [],
   "source": [
    "augment(fit) %>%\n",
    "    ggplot(aes(Sales, .innov)) +\n",
    "    geom_point()"
   ]
  },
  {
   "cell_type": "code",
   "execution_count": null,
   "id": "authentic-armor",
   "metadata": {},
   "outputs": [],
   "source": [
    "augment(fit) %>%\n",
    "    ggplot(aes(Month, .innov, group=month(Month), fill=month(Month))) +\n",
    "    geom_boxplot()"
   ]
  },
  {
   "cell_type": "code",
   "execution_count": null,
   "id": "public-playlist",
   "metadata": {},
   "outputs": [],
   "source": [
    "augment(fit) %>% features(.innov, ljung_box, lag = 20, dof = 13)"
   ]
  },
  {
   "cell_type": "code",
   "execution_count": null,
   "id": "level-alpha",
   "metadata": {},
   "outputs": [],
   "source": []
  }
 ],
 "metadata": {
  "kernelspec": {
   "display_name": "R",
   "language": "R",
   "name": "ir"
  },
  "language_info": {
   "codemirror_mode": "r",
   "file_extension": ".r",
   "mimetype": "text/x-r-source",
   "name": "R",
   "pygments_lexer": "r",
   "version": "3.6.1"
  }
 },
 "nbformat": 4,
 "nbformat_minor": 5
}
