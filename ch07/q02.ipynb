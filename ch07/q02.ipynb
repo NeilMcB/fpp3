{
 "cells": [
  {
   "cell_type": "code",
   "execution_count": null,
   "id": "operating-layer",
   "metadata": {},
   "outputs": [],
   "source": [
    "library(fpp3)"
   ]
  },
  {
   "cell_type": "code",
   "execution_count": null,
   "id": "defensive-offer",
   "metadata": {},
   "outputs": [],
   "source": [
    "olympic_running %>%\n",
    "    ggplot(aes(Year, Time, color=Sex)) +\n",
    "    geom_line() +\n",
    "    facet_grid(Length ~ ., scale = \"free_y\")"
   ]
  },
  {
   "cell_type": "code",
   "execution_count": null,
   "id": "rocky-soccer",
   "metadata": {},
   "outputs": [],
   "source": [
    "fit <- olympic_running %>%\n",
    "    model(TSLM(Time ~ Year))\n",
    "\n",
    "fit %>%\n",
    "    filter(Length == 100, Sex == \"women\") %>%\n",
    "    report()"
   ]
  },
  {
   "cell_type": "code",
   "execution_count": null,
   "id": "played-american",
   "metadata": {},
   "outputs": [],
   "source": [
    "fit %>%\n",
    "    filter(Length == 800, Sex == \"men\") %>%\n",
    "    gg_tsresiduals()"
   ]
  },
  {
   "cell_type": "code",
   "execution_count": null,
   "id": "flexible-dover",
   "metadata": {},
   "outputs": [],
   "source": []
  }
 ],
 "metadata": {
  "kernelspec": {
   "display_name": "R",
   "language": "R",
   "name": "ir"
  },
  "language_info": {
   "codemirror_mode": "r",
   "file_extension": ".r",
   "mimetype": "text/x-r-source",
   "name": "R",
   "pygments_lexer": "r",
   "version": "3.6.1"
  }
 },
 "nbformat": 4,
 "nbformat_minor": 5
}
