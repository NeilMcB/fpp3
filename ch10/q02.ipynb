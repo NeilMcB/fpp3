{
 "cells": [
  {
   "cell_type": "code",
   "execution_count": null,
   "id": "distinguished-release",
   "metadata": {},
   "outputs": [],
   "source": [
    "library(fpp3)"
   ]
  },
  {
   "cell_type": "code",
   "execution_count": null,
   "id": "understanding-london",
   "metadata": {},
   "outputs": [],
   "source": [
    "autoplot(souvenirs, Sales)"
   ]
  },
  {
   "cell_type": "code",
   "execution_count": null,
   "id": "adaptive-definition",
   "metadata": {},
   "outputs": [],
   "source": [
    "lambda <- souvenirs %>%\n",
    "    features(Sales, guerrero) %>%\n",
    "    pull(lambda_guerrero)\n",
    "\n",
    "autoplot(souvenirs, box_cox(Sales, lambda))"
   ]
  },
  {
   "cell_type": "code",
   "execution_count": null,
   "id": "partial-destination",
   "metadata": {},
   "outputs": [],
   "source": [
    "fit <- souvenirs %>%\n",
    "    model(\n",
    "        linear = TSLM(Sales ~ trend() + season()),\n",
    "        arima = ARIMA(Sales ~ trend() + season() + pdq())\n",
    "    )"
   ]
  },
  {
   "cell_type": "code",
   "execution_count": null,
   "id": "convinced-layout",
   "metadata": {},
   "outputs": [],
   "source": [
    "fit %>% select(linear) %>% gg_tsresiduals()"
   ]
  },
  {
   "cell_type": "code",
   "execution_count": null,
   "id": "spread-paintball",
   "metadata": {},
   "outputs": [],
   "source": [
    "fit %>% select(arima) %>% gg_tsresiduals()"
   ]
  },
  {
   "cell_type": "code",
   "execution_count": null,
   "id": "coastal-destination",
   "metadata": {},
   "outputs": [],
   "source": []
  }
 ],
 "metadata": {
  "kernelspec": {
   "display_name": "R",
   "language": "R",
   "name": "ir"
  },
  "language_info": {
   "codemirror_mode": "r",
   "file_extension": ".r",
   "mimetype": "text/x-r-source",
   "name": "R",
   "pygments_lexer": "r",
   "version": "3.6.1"
  }
 },
 "nbformat": 4,
 "nbformat_minor": 5
}
