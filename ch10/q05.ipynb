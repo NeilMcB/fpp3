{
 "cells": [
  {
   "cell_type": "code",
   "execution_count": null,
   "id": "closing-colony",
   "metadata": {},
   "outputs": [],
   "source": [
    "library(fpp3)"
   ]
  },
  {
   "cell_type": "code",
   "execution_count": null,
   "id": "hundred-mills",
   "metadata": {},
   "outputs": [],
   "source": [
    "us_gasoline %>% autoplot(Barrels)"
   ]
  },
  {
   "cell_type": "code",
   "execution_count": null,
   "id": "toxic-glasgow",
   "metadata": {},
   "outputs": [],
   "source": [
    "fit <- us_gasoline %>%\n",
    "    model(\n",
    "        linear = TSLM(Barrels ~ trend(knots=c(2007, 2011)) + season() + fourier(K=2)),\n",
    "        arima = ARIMA(Barrels ~ trend(knots=c(2007, 2011)) + season() + pdq())\n",
    "    )"
   ]
  },
  {
   "cell_type": "code",
   "execution_count": null,
   "id": "rotary-particle",
   "metadata": {},
   "outputs": [],
   "source": [
    "fit %>% select(linear) %>% gg_tsresiduals()"
   ]
  },
  {
   "cell_type": "code",
   "execution_count": null,
   "id": "weighted-significance",
   "metadata": {},
   "outputs": [],
   "source": [
    "fit %>% select(arima) %>% gg_tsresiduals()"
   ]
  },
  {
   "cell_type": "code",
   "execution_count": null,
   "id": "private-initial",
   "metadata": {},
   "outputs": [],
   "source": []
  }
 ],
 "metadata": {
  "kernelspec": {
   "display_name": "R",
   "language": "R",
   "name": "ir"
  },
  "language_info": {
   "codemirror_mode": "r",
   "file_extension": ".r",
   "mimetype": "text/x-r-source",
   "name": "R",
   "pygments_lexer": "r",
   "version": "3.6.1"
  }
 },
 "nbformat": 4,
 "nbformat_minor": 5
}
