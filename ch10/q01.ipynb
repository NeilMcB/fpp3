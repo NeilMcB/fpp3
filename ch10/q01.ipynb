{
 "cells": [
  {
   "cell_type": "code",
   "execution_count": null,
   "id": "stunning-wayne",
   "metadata": {},
   "outputs": [],
   "source": [
    "library(fpp3)"
   ]
  },
  {
   "cell_type": "code",
   "execution_count": null,
   "id": "shaped-volleyball",
   "metadata": {},
   "outputs": [],
   "source": [
    "huron <- as_tsibble(LakeHuron)\n",
    "\n",
    "autoplot(huron, value)"
   ]
  },
  {
   "cell_type": "code",
   "execution_count": null,
   "id": "legislative-fusion",
   "metadata": {},
   "outputs": [],
   "source": [
    "fit <- huron %>%\n",
    "    model(ARIMA(value ~ trend(knots = 1920) + pdq(d = 0)))\n",
    "\n",
    "report(fit)"
   ]
  },
  {
   "cell_type": "code",
   "execution_count": null,
   "id": "accessible-pastor",
   "metadata": {},
   "outputs": [],
   "source": [
    "fit %>%\n",
    "    forecast(h = \"30 years\") %>%\n",
    "    autoplot(huron)"
   ]
  },
  {
   "cell_type": "code",
   "execution_count": null,
   "id": "immediate-booth",
   "metadata": {},
   "outputs": [],
   "source": []
  }
 ],
 "metadata": {
  "kernelspec": {
   "display_name": "R",
   "language": "R",
   "name": "ir"
  },
  "language_info": {
   "codemirror_mode": "r",
   "file_extension": ".r",
   "mimetype": "text/x-r-source",
   "name": "R",
   "pygments_lexer": "r",
   "version": "3.6.1"
  }
 },
 "nbformat": 4,
 "nbformat_minor": 5
}
