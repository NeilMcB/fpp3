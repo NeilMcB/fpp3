{
 "cells": [
  {
   "cell_type": "code",
   "execution_count": null,
   "id": "introductory-present",
   "metadata": {},
   "outputs": [],
   "source": [
    "library(fpp3)"
   ]
  },
  {
   "cell_type": "code",
   "execution_count": null,
   "id": "chubby-millennium",
   "metadata": {},
   "outputs": [],
   "source": [
    "fit <- us_change %>%\n",
    "    model(ARIMA(Consumption ~ Income))\n",
    "\n",
    "report(fit)"
   ]
  },
  {
   "cell_type": "code",
   "execution_count": null,
   "id": "wrong-bikini",
   "metadata": {},
   "outputs": [],
   "source": []
  }
 ],
 "metadata": {
  "kernelspec": {
   "display_name": "R",
   "language": "R",
   "name": "ir"
  },
  "language_info": {
   "codemirror_mode": "r",
   "file_extension": ".r",
   "mimetype": "text/x-r-source",
   "name": "R",
   "pygments_lexer": "r",
   "version": "3.6.1"
  }
 },
 "nbformat": 4,
 "nbformat_minor": 5
}
